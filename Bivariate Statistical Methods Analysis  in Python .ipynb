{
 "cells": [
  {
   "cell_type": "code",
   "execution_count": 360,
   "metadata": {},
   "outputs": [],
   "source": [
    "import pandas as pd\n",
    "path=r'B:\\...\\...\\...\\Ogun_NDHS_2013.dta'\n",
    "Ogun_ndhs2013=pd.read_stata(path)"
   ]
  },
  {
   "cell_type": "code",
   "execution_count": 361,
   "metadata": {
    "scrolled": true
   },
   "outputs": [
    {
     "data": {
      "text/plain": [
       "(630, 4617)"
      ]
     },
     "execution_count": 361,
     "metadata": {},
     "output_type": "execute_result"
    }
   ],
   "source": [
    "Ogun_ndhs2013.shape"
   ]
  },
  {
   "cell_type": "raw",
   "metadata": {},
   "source": [
    "# Though there are 4617 features (variables) in this dataframe and 630 rows (observations), we would only be using the 9 in our analysis. We would only keep the 9 in the dataframe "
   ]
  },
  {
   "cell_type": "code",
   "execution_count": 309,
   "metadata": {},
   "outputs": [],
   "source": [
    "# We need to select only 9 features needed in this analysis, and drop the remaining. \n",
    "Variables_needed=['v313','v025', 'v012', 'v013', 'v203', 'v205', 'v218', 'v106', 'v190'] # These are the only variables needed in this analysis."
   ]
  },
  {
   "cell_type": "code",
   "execution_count": 310,
   "metadata": {},
   "outputs": [],
   "source": [
    "Ogun_ndhs2013=Ogun_ndhs2013[Variables_needed] "
   ]
  },
  {
   "cell_type": "code",
   "execution_count": 91,
   "metadata": {},
   "outputs": [
    {
     "data": {
      "text/plain": [
       "(630, 9)"
      ]
     },
     "execution_count": 91,
     "metadata": {},
     "output_type": "execute_result"
    }
   ],
   "source": [
    "Ogun_ndhs2013.shape"
   ]
  },
  {
   "cell_type": "code",
   "execution_count": 11,
   "metadata": {},
   "outputs": [
    {
     "data": {
      "text/html": [
       "<div>\n",
       "<style scoped>\n",
       "    .dataframe tbody tr th:only-of-type {\n",
       "        vertical-align: middle;\n",
       "    }\n",
       "\n",
       "    .dataframe tbody tr th {\n",
       "        vertical-align: top;\n",
       "    }\n",
       "\n",
       "    .dataframe thead th {\n",
       "        text-align: right;\n",
       "    }\n",
       "</style>\n",
       "<table border=\"1\" class=\"dataframe\">\n",
       "  <thead>\n",
       "    <tr style=\"text-align: right;\">\n",
       "      <th></th>\n",
       "      <th>v313</th>\n",
       "      <th>v025</th>\n",
       "      <th>v012</th>\n",
       "      <th>v013</th>\n",
       "      <th>v203</th>\n",
       "      <th>v205</th>\n",
       "      <th>v218</th>\n",
       "      <th>v106</th>\n",
       "      <th>v190</th>\n",
       "    </tr>\n",
       "  </thead>\n",
       "  <tbody>\n",
       "    <tr>\n",
       "      <th>0</th>\n",
       "      <td>Modern method</td>\n",
       "      <td>Urban</td>\n",
       "      <td>34</td>\n",
       "      <td>30-34</td>\n",
       "      <td>3</td>\n",
       "      <td>0</td>\n",
       "      <td>4</td>\n",
       "      <td>Primary</td>\n",
       "      <td>Richest</td>\n",
       "    </tr>\n",
       "    <tr>\n",
       "      <th>1</th>\n",
       "      <td>No method</td>\n",
       "      <td>Urban</td>\n",
       "      <td>15</td>\n",
       "      <td>15-19</td>\n",
       "      <td>0</td>\n",
       "      <td>0</td>\n",
       "      <td>0</td>\n",
       "      <td>Secondary</td>\n",
       "      <td>Richest</td>\n",
       "    </tr>\n",
       "    <tr>\n",
       "      <th>2</th>\n",
       "      <td>Modern method</td>\n",
       "      <td>Urban</td>\n",
       "      <td>26</td>\n",
       "      <td>25-29</td>\n",
       "      <td>2</td>\n",
       "      <td>0</td>\n",
       "      <td>2</td>\n",
       "      <td>Secondary</td>\n",
       "      <td>Richest</td>\n",
       "    </tr>\n",
       "    <tr>\n",
       "      <th>3</th>\n",
       "      <td>Modern method</td>\n",
       "      <td>Urban</td>\n",
       "      <td>33</td>\n",
       "      <td>30-34</td>\n",
       "      <td>2</td>\n",
       "      <td>0</td>\n",
       "      <td>5</td>\n",
       "      <td>Primary</td>\n",
       "      <td>Richer</td>\n",
       "    </tr>\n",
       "    <tr>\n",
       "      <th>4</th>\n",
       "      <td>No method</td>\n",
       "      <td>Urban</td>\n",
       "      <td>16</td>\n",
       "      <td>15-19</td>\n",
       "      <td>0</td>\n",
       "      <td>0</td>\n",
       "      <td>0</td>\n",
       "      <td>Secondary</td>\n",
       "      <td>Richer</td>\n",
       "    </tr>\n",
       "    <tr>\n",
       "      <th>5</th>\n",
       "      <td>No method</td>\n",
       "      <td>Urban</td>\n",
       "      <td>34</td>\n",
       "      <td>30-34</td>\n",
       "      <td>3</td>\n",
       "      <td>0</td>\n",
       "      <td>4</td>\n",
       "      <td>Primary</td>\n",
       "      <td>Richer</td>\n",
       "    </tr>\n",
       "    <tr>\n",
       "      <th>6</th>\n",
       "      <td>Modern method</td>\n",
       "      <td>Urban</td>\n",
       "      <td>33</td>\n",
       "      <td>30-34</td>\n",
       "      <td>4</td>\n",
       "      <td>0</td>\n",
       "      <td>5</td>\n",
       "      <td>Secondary</td>\n",
       "      <td>Richest</td>\n",
       "    </tr>\n",
       "    <tr>\n",
       "      <th>7</th>\n",
       "      <td>Modern method</td>\n",
       "      <td>Urban</td>\n",
       "      <td>21</td>\n",
       "      <td>20-24</td>\n",
       "      <td>0</td>\n",
       "      <td>0</td>\n",
       "      <td>1</td>\n",
       "      <td>Secondary</td>\n",
       "      <td>Richest</td>\n",
       "    </tr>\n",
       "    <tr>\n",
       "      <th>8</th>\n",
       "      <td>No method</td>\n",
       "      <td>Urban</td>\n",
       "      <td>41</td>\n",
       "      <td>40-44</td>\n",
       "      <td>1</td>\n",
       "      <td>0</td>\n",
       "      <td>2</td>\n",
       "      <td>Secondary</td>\n",
       "      <td>Richest</td>\n",
       "    </tr>\n",
       "  </tbody>\n",
       "</table>\n",
       "</div>"
      ],
      "text/plain": [
       "            v313   v025  v012   v013  v203  v205  v218       v106     v190\n",
       "0  Modern method  Urban    34  30-34     3     0     4    Primary  Richest\n",
       "1      No method  Urban    15  15-19     0     0     0  Secondary  Richest\n",
       "2  Modern method  Urban    26  25-29     2     0     2  Secondary  Richest\n",
       "3  Modern method  Urban    33  30-34     2     0     5    Primary   Richer\n",
       "4      No method  Urban    16  15-19     0     0     0  Secondary   Richer\n",
       "5      No method  Urban    34  30-34     3     0     4    Primary   Richer\n",
       "6  Modern method  Urban    33  30-34     4     0     5  Secondary  Richest\n",
       "7  Modern method  Urban    21  20-24     0     0     1  Secondary  Richest\n",
       "8      No method  Urban    41  40-44     1     0     2  Secondary  Richest"
      ]
     },
     "execution_count": 11,
     "metadata": {},
     "output_type": "execute_result"
    }
   ],
   "source": [
    "Ogun_ndhs2013.head(9)"
   ]
  },
  {
   "cell_type": "markdown",
   "metadata": {},
   "source": [
    "# 4.1.1 Chi-square test or chi-square test of independence "
   ]
  },
  {
   "cell_type": "code",
   "execution_count": 362,
   "metadata": {},
   "outputs": [],
   "source": [
    "import pandas as pd\n",
    "path=r'B:\\...\\...\\...\\Ogun_NDHS_2013.dta'\n",
    "Ogun_ndhs2013=pd.read_stata(path)\n",
    "Variables_needed=['v313','v025', 'v012', 'v013', 'v203', 'v205', 'v218', 'v106', 'v190']\n",
    "Ogun_ndhs2013=Ogun_ndhs2013[Variables_needed] "
   ]
  },
  {
   "cell_type": "code",
   "execution_count": 363,
   "metadata": {},
   "outputs": [],
   "source": [
    "# import numpy as np\n",
    "from scipy.stats import chi2_contingency\n",
    "from scipy.stats import chi2"
   ]
  },
  {
   "cell_type": "code",
   "execution_count": 364,
   "metadata": {},
   "outputs": [
    {
     "data": {
      "text/plain": [
       "Urban    358\n",
       "Rural    272\n",
       "Name: v025, dtype: int64"
      ]
     },
     "execution_count": 364,
     "metadata": {},
     "output_type": "execute_result"
    }
   ],
   "source": [
    "Ogun_ndhs2013 ['v025'].value_counts()"
   ]
  },
  {
   "cell_type": "code",
   "execution_count": 365,
   "metadata": {
    "scrolled": true
   },
   "outputs": [
    {
     "data": {
      "text/plain": [
       "No method             489\n",
       "Modern method         118\n",
       "Traditional method     16\n",
       "Folkloric method        7\n",
       "Name: v313, dtype: int64"
      ]
     },
     "execution_count": 365,
     "metadata": {},
     "output_type": "execute_result"
    }
   ],
   "source": [
    "# 4-response-category:  No method, Modern method, Traditional method, folkloric method \n",
    "Ogun_ndhs2013 ['v313'].value_counts()"
   ]
  },
  {
   "cell_type": "code",
   "execution_count": 366,
   "metadata": {},
   "outputs": [],
   "source": [
    "#We will recode into 3-response-category: No method, Modern Method, and Others\n",
    "v313_recode =  { \"v313\": \n",
    "                             {\"No method\": 'No method',  \n",
    "                              \"Modern method\": 'Modern method',  \n",
    "                              \"Traditional method\": 'Others',  \n",
    "                              \"Folkloric method\": 'Others'}\n",
    "             }    \n",
    "\n",
    "Ogun_ndhs2013.replace(v313_recode, inplace=True)"
   ]
  },
  {
   "cell_type": "code",
   "execution_count": 367,
   "metadata": {
    "scrolled": true
   },
   "outputs": [
    {
     "data": {
      "text/plain": [
       "No method        489\n",
       "Modern method    118\n",
       "Others            23\n",
       "Name: v313, dtype: int64"
      ]
     },
     "execution_count": 367,
     "metadata": {},
     "output_type": "execute_result"
    }
   ],
   "source": [
    "# 3-response-category:  No method, Modern method, Others \n",
    "Ogun_ndhs2013 ['v313'].value_counts()"
   ]
  },
  {
   "cell_type": "code",
   "execution_count": 368,
   "metadata": {},
   "outputs": [
    {
     "name": "stdout",
     "output_type": "stream",
     "text": [
      "v025           Urban  Rural\n",
      "v313                       \n",
      "Modern method     67     51\n",
      "No method        278    211\n",
      "Others            13     10\n"
     ]
    }
   ],
   "source": [
    "tab0=pd.crosstab(index=Ogun_ndhs2013.v313, columns=Ogun_ndhs2013.v025)\n",
    "print(tab0)"
   ]
  },
  {
   "cell_type": "code",
   "execution_count": 369,
   "metadata": {},
   "outputs": [
    {
     "name": "stdout",
     "output_type": "stream",
     "text": [
      "Chi-square statistic is 0.001,  p_value is 0.999\n"
     ]
    }
   ],
   "source": [
    "chi2, p, dof, expected=chi2_contingency(tab0.values)\n",
    "print('Chi-square statistic is %0.3f,  p_value is %0.3f' %(chi2,p))"
   ]
  },
  {
   "cell_type": "markdown",
   "metadata": {},
   "source": [
    "# 4.1.2 T-test of mean difference"
   ]
  },
  {
   "cell_type": "markdown",
   "metadata": {},
   "source": [
    "There are majorly three types of T-test\n",
    "1. One sample t-test \n",
    "2. Two independent sample t-test\n",
    "3. Paired Sample t-test"
   ]
  },
  {
   "cell_type": "markdown",
   "metadata": {},
   "source": [
    "# 4.1.2.1 One-sample T-test of mean difference"
   ]
  },
  {
   "cell_type": "code",
   "execution_count": 371,
   "metadata": {},
   "outputs": [],
   "source": [
    "import pandas as pd\n",
    "path=r'B:\\...\\...\\...\\Ogun_NDHS_2013.dta'\n",
    "Ogun_ndhs2013=pd.read_stata(path)\n",
    "Variables_needed=['v313','v025', 'v012', 'v013', 'v203', 'v205', 'v218', 'v106', 'v190']\n",
    "Ogun_ndhs2013=Ogun_ndhs2013[Variables_needed] "
   ]
  },
  {
   "cell_type": "code",
   "execution_count": 372,
   "metadata": {},
   "outputs": [],
   "source": [
    "import numpy as np\n",
    "from scipy import stats\n",
    "from scipy.stats import ttest_ind"
   ]
  },
  {
   "cell_type": "code",
   "execution_count": 373,
   "metadata": {
    "scrolled": true
   },
   "outputs": [
    {
     "data": {
      "text/plain": [
       "(32.143382352941174, 9.12953281002273)"
      ]
     },
     "execution_count": 373,
     "metadata": {},
     "output_type": "execute_result"
    }
   ],
   "source": [
    "age_rural=Ogun_ndhs2013[(Ogun_ndhs2013['v012']>=15) & (Ogun_ndhs2013['v025']== \"Rural\")]\n",
    "age_rural=age_rural['v012']\n",
    "age_rural.mean(), age_rural.std()"
   ]
  },
  {
   "cell_type": "code",
   "execution_count": 374,
   "metadata": {},
   "outputs": [
    {
     "data": {
      "text/plain": [
       "(30.011173184357542, 9.572070030573496)"
      ]
     },
     "execution_count": 374,
     "metadata": {},
     "output_type": "execute_result"
    }
   ],
   "source": [
    "age_urban=Ogun_ndhs2013[(Ogun_ndhs2013['v012']>=15) & (Ogun_ndhs2013['v025']== \"Urban\")]\n",
    "age_urban=age_urban['v012']\n",
    "age_urban.mean(), age_urban.std()"
   ]
  },
  {
   "cell_type": "code",
   "execution_count": 375,
   "metadata": {
    "scrolled": true
   },
   "outputs": [
    {
     "data": {
      "text/plain": [
       "Ttest_indResult(statistic=2.824965229514288, pvalue=0.00487875330194052)"
      ]
     },
     "execution_count": 375,
     "metadata": {},
     "output_type": "execute_result"
    }
   ],
   "source": [
    "stats.ttest_ind(age_rural,age_urban)"
   ]
  },
  {
   "cell_type": "markdown",
   "metadata": {},
   "source": [
    "# 4.1.2.2 Two independent sample t-test of mean difference"
   ]
  },
  {
   "cell_type": "code",
   "execution_count": 346,
   "metadata": {},
   "outputs": [],
   "source": [
    "import pandas as pd\n",
    "path=r'B:\\Users\\AKIODE AYOBAMI\\Desktop\\Desktop_folders\\Desktop Documents\\Desktop items\\NURHI Kaduna\\Ogun_NDHS_2013.dta'\n",
    "Ogun_ndhs2013=pd.read_stata(path)\n",
    "Variables_needed=['v313','v025', 'v012', 'v013', 'v203', 'v205', 'v218', 'v106', 'v190']\n",
    "Ogun_ndhs2013=Ogun_ndhs2013[Variables_needed] "
   ]
  },
  {
   "cell_type": "code",
   "execution_count": null,
   "metadata": {},
   "outputs": [],
   "source": [
    "import pandas as pd\n",
    "path=r'B:\\...\\...\\...\\Ogun_NDHS_2013.dta'\n",
    "Ogun_ndhs2013=pd.read_stata(path)\n",
    "Variables_needed=['v313','v025', 'v012', 'v013', 'v203', 'v205', 'v218', 'v106', 'v190']\n",
    "Ogun_ndhs2013=Ogun_ndhs2013[Variables_needed] "
   ]
  },
  {
   "cell_type": "code",
   "execution_count": 347,
   "metadata": {},
   "outputs": [],
   "source": [
    "# for hypothetical value, Remember we are assuming this is a National Censor value\n",
    "import numpy as np\n",
    "from scipy import stats\n",
    "from scipy.stats import ttest_1samp"
   ]
  },
  {
   "cell_type": "code",
   "execution_count": 348,
   "metadata": {},
   "outputs": [
    {
     "data": {
      "text/plain": [
       "(32.143382352941174, 9.12953281002273)"
      ]
     },
     "execution_count": 348,
     "metadata": {},
     "output_type": "execute_result"
    }
   ],
   "source": [
    "age_rural=Ogun_ndhs2013[(Ogun_ndhs2013['v012']>=15) & (Ogun_ndhs2013['v025']== \"Rural\")]\n",
    "age_rural=age_rural['v012']\n",
    "age_rural.mean(), age_rural.std()"
   ]
  },
  {
   "cell_type": "code",
   "execution_count": 349,
   "metadata": {},
   "outputs": [
    {
     "data": {
      "text/plain": [
       "(30.93174603174603, 9.43558742962381)"
      ]
     },
     "execution_count": 349,
     "metadata": {},
     "output_type": "execute_result"
    }
   ],
   "source": [
    "Ogun_state_mean_age=Ogun_ndhs2013['v012']\n",
    "Ogun_state_mean_age.mean(), Ogun_state_mean_age.std()"
   ]
  },
  {
   "cell_type": "code",
   "execution_count": 350,
   "metadata": {},
   "outputs": [
    {
     "data": {
      "text/plain": [
       "Ttest_1sampResult(statistic=2.0655103868921745, pvalue=0.039825426769360225)"
      ]
     },
     "execution_count": 350,
     "metadata": {},
     "output_type": "execute_result"
    }
   ],
   "source": [
    "stats.ttest_1samp(age_rural,31)"
   ]
  },
  {
   "cell_type": "markdown",
   "metadata": {},
   "source": [
    "# 4.1.2.3 Paired-sample t-test test of mean difference"
   ]
  },
  {
   "cell_type": "code",
   "execution_count": 376,
   "metadata": {},
   "outputs": [],
   "source": [
    "import pandas as pd\n",
    "path=r'B:\\...\\...\\...\\Ogun_NDHS_2013.dta'\n",
    "Ogun_ndhs2013=pd.read_stata(path)\n",
    "Variables_needed=['v313','v025', 'v012', 'v013', 'v203', 'v205', 'v218', 'v106', 'v190']\n",
    "Ogun_ndhs2013=Ogun_ndhs2013[Variables_needed] "
   ]
  },
  {
   "cell_type": "code",
   "execution_count": null,
   "metadata": {},
   "outputs": [],
   "source": [
    "#The two similar variables or features are: Number of respondent's daughters not living with respondent (v203); \n",
    "#Number of respondent's daughters living with respondent(v205)"
   ]
  },
  {
   "cell_type": "code",
   "execution_count": 377,
   "metadata": {},
   "outputs": [],
   "source": [
    "import numpy as np\n",
    "from scipy import stats\n",
    "from scipy.stats import ttest_rel"
   ]
  },
  {
   "cell_type": "code",
   "execution_count": 378,
   "metadata": {},
   "outputs": [],
   "source": [
    "daughter_home=Ogun_ndhs2013['v205']\n",
    "daughter_away=Ogun_ndhs2013['v203']"
   ]
  },
  {
   "cell_type": "code",
   "execution_count": 379,
   "metadata": {},
   "outputs": [
    {
     "data": {
      "text/plain": [
       "Ttest_relResult(statistic=-9.842459522339624, pvalue=2.345175648401757e-21)"
      ]
     },
     "execution_count": 379,
     "metadata": {},
     "output_type": "execute_result"
    }
   ],
   "source": [
    "ttest_rel(daughter_home,daughter_away, nan_policy='omit')\n",
    "# The omit means that ignore pairs with missing values in the analysis. Other options are: propagate (the default argument. With this, if there are\n",
    "# missing pairs or one part of a pair, the program will return \"nan\"); throw - will return an error message if there are\n",
    "# missing pairs or one part of a pair."
   ]
  },
  {
   "cell_type": "markdown",
   "metadata": {},
   "source": [
    "# Pearson Correlation test of relationship"
   ]
  },
  {
   "cell_type": "code",
   "execution_count": 380,
   "metadata": {},
   "outputs": [],
   "source": [
    "import pandas as pd\n",
    "path=r'B:\\...\\...\\...\\Ogun_NDHS_2013.dta'\n",
    "Ogun_ndhs2013=pd.read_stata(path)\n",
    "Variables_needed=['v313','v025', 'v012', 'v013', 'v203', 'v205', 'v218', 'v106', 'v190']\n",
    "Ogun_ndhs2013=Ogun_ndhs2013[Variables_needed]"
   ]
  },
  {
   "cell_type": "code",
   "execution_count": 381,
   "metadata": {},
   "outputs": [],
   "source": [
    "Age_X=Ogun_ndhs2013['v012']\n",
    "No_Living_Chid_Y=Ogun_ndhs2013['v218']"
   ]
  },
  {
   "cell_type": "code",
   "execution_count": 382,
   "metadata": {},
   "outputs": [],
   "source": [
    "import numpy as np\n",
    "from scipy import stats\n",
    "from scipy.stats import pearsonr"
   ]
  },
  {
   "cell_type": "code",
   "execution_count": 383,
   "metadata": {},
   "outputs": [
    {
     "data": {
      "text/plain": [
       "(0.6997451243534994, 8.502131933733046e-94)"
      ]
     },
     "execution_count": 383,
     "metadata": {},
     "output_type": "execute_result"
    }
   ],
   "source": [
    "stats.pearsonr(Age_X, No_Living_Chid_Y)"
   ]
  },
  {
   "cell_type": "code",
   "execution_count": null,
   "metadata": {},
   "outputs": [],
   "source": [
    "Note, the first item is the correlation coefficient, while the second item is the p-value "
   ]
  },
  {
   "cell_type": "code",
   "execution_count": 384,
   "metadata": {},
   "outputs": [
    {
     "name": "stdout",
     "output_type": "stream",
     "text": [
      "correlation coefficent is 0.700, p_value is 0.000\n"
     ]
    }
   ],
   "source": [
    "print ('correlation coefficent is %0.3f, p_value is %0.3f' %(stats.pearsonr(Age_X, No_Living_Chid_Y)))"
   ]
  },
  {
   "cell_type": "markdown",
   "metadata": {},
   "source": [
    "# 4.1.4 Regression test of Linear relationship"
   ]
  },
  {
   "cell_type": "code",
   "execution_count": 385,
   "metadata": {},
   "outputs": [],
   "source": [
    "import pandas as pd\n",
    "path=r'B:\\...\\...\\...\\Ogun_NDHS_2013.dta'\n",
    "Ogun_ndhs2013=pd.read_stata(path)\n",
    "Variables_needed=['v313','v025', 'v012', 'v013', 'v203', 'v205', 'v218', 'v106', 'v190']\n",
    "Ogun_ndhs2013=Ogun_ndhs2013[Variables_needed]"
   ]
  },
  {
   "cell_type": "code",
   "execution_count": 386,
   "metadata": {},
   "outputs": [],
   "source": [
    "import numpy as np\n",
    "from scipy import stats\n",
    "from scipy.stats import linregress"
   ]
  },
  {
   "cell_type": "code",
   "execution_count": 387,
   "metadata": {},
   "outputs": [],
   "source": [
    "slope, intercept, r_value, p_value, std_err = stats.linregress(Age_X, No_Living_Chid_Y)"
   ]
  },
  {
   "cell_type": "code",
   "execution_count": 388,
   "metadata": {},
   "outputs": [
    {
     "name": "stdout",
     "output_type": "stream",
     "text": [
      "slope is 0.155, intercept is -2.137, r_value  is 0.700, p_value  is 0.000, std_err is 0.006\n"
     ]
    }
   ],
   "source": [
    "print('slope is %0.3f, intercept is %0.3f, r_value  is %0.3f, p_value  is %0.3f, std_err is %0.3f' %(slope, intercept, r_value, p_value, std_err))"
   ]
  },
  {
   "cell_type": "code",
   "execution_count": 389,
   "metadata": {
    "scrolled": true
   },
   "outputs": [
    {
     "name": "stdout",
     "output_type": "stream",
     "text": [
      "r-squared: 0.48964323905649315\n"
     ]
    }
   ],
   "source": [
    " # r squared is the coefficient of determination, and tells stands between 0 and 1\n",
    "print (\"r-squared:\", r_value**2)"
   ]
  },
  {
   "cell_type": "markdown",
   "metadata": {},
   "source": [
    "# 4.1.4 One-way Analysis of Variance(ANOVA)"
   ]
  },
  {
   "cell_type": "code",
   "execution_count": 390,
   "metadata": {},
   "outputs": [],
   "source": [
    "import pandas as pd\n",
    "path=r'B:\\...\\...\\...\\Ogun_NDHS_2013.dta'\n",
    "Ogun_ndhs2013=pd.read_stata(path)\n",
    "Variables_needed=['v313','v025', 'v012', 'v013', 'v203', 'v205', 'v218', 'v106', 'v190']\n",
    "Ogun_ndhs2013=Ogun_ndhs2013[Variables_needed]"
   ]
  },
  {
   "cell_type": "code",
   "execution_count": 400,
   "metadata": {},
   "outputs": [],
   "source": [
    "import numpy as np\n",
    "from scipy import stats\n",
    "from scipy.stats import f_oneway"
   ]
  },
  {
   "cell_type": "code",
   "execution_count": 391,
   "metadata": {
    "scrolled": true
   },
   "outputs": [
    {
     "data": {
      "text/plain": [
       "Secondary       293\n",
       "Primary         218\n",
       "No education     72\n",
       "Higher           47\n",
       "Name: v106, dtype: int64"
      ]
     },
     "execution_count": 391,
     "metadata": {},
     "output_type": "execute_result"
    }
   ],
   "source": [
    "#we need to check the response-categories of the predictor variable\n",
    "Ogun_ndhs2013['v106'].value_counts()"
   ]
  },
  {
   "cell_type": "raw",
   "metadata": {},
   "source": [
    "#To move forward, we would need to break the dataset into 4, based on the response-categories of \n",
    "#the nominal predictor feature. The 4 groups will be: "
   ]
  },
  {
   "cell_type": "code",
   "execution_count": 392,
   "metadata": {},
   "outputs": [],
   "source": [
    "Only_secondary_education=Ogun_ndhs2013[(Ogun_ndhs2013['v106']=='Secondary') & (Ogun_ndhs2013['v012']>=15)]"
   ]
  },
  {
   "cell_type": "code",
   "execution_count": 393,
   "metadata": {},
   "outputs": [],
   "source": [
    "secondary_educ_age=Only_secondary_education['v012']"
   ]
  },
  {
   "cell_type": "code",
   "execution_count": 394,
   "metadata": {},
   "outputs": [],
   "source": [
    "Only_primary_education=Ogun_ndhs2013[(Ogun_ndhs2013['v106']=='Primary') & (Ogun_ndhs2013['v012']>=15)]"
   ]
  },
  {
   "cell_type": "code",
   "execution_count": 395,
   "metadata": {},
   "outputs": [],
   "source": [
    "primary_educ_age=Only_primary_education['v012']"
   ]
  },
  {
   "cell_type": "code",
   "execution_count": 396,
   "metadata": {},
   "outputs": [],
   "source": [
    "Only_NoEducation=Ogun_ndhs2013[(Ogun_ndhs2013['v106']=='No education') & (Ogun_ndhs2013['v012']>=15)]"
   ]
  },
  {
   "cell_type": "code",
   "execution_count": 397,
   "metadata": {},
   "outputs": [],
   "source": [
    "NoEducation_educ_age=Only_NoEducation['v012']"
   ]
  },
  {
   "cell_type": "code",
   "execution_count": 398,
   "metadata": {},
   "outputs": [],
   "source": [
    "Only_Higher=Ogun_ndhs2013[(Ogun_ndhs2013['v106']=='Higher') & (Ogun_ndhs2013['v012']>=15)]"
   ]
  },
  {
   "cell_type": "code",
   "execution_count": 399,
   "metadata": {},
   "outputs": [],
   "source": [
    "Higher_educ_age=Only_Higher['v012']"
   ]
  },
  {
   "cell_type": "code",
   "execution_count": 401,
   "metadata": {},
   "outputs": [
    {
     "data": {
      "text/plain": [
       "F_onewayResult(statistic=16.408322234067832, pvalue=2.82517891463189e-10)"
      ]
     },
     "execution_count": 401,
     "metadata": {},
     "output_type": "execute_result"
    }
   ],
   "source": [
    "f_oneway(secondary_educ_age,primary_educ_age, NoEducation_educ_age, Higher_educ_age)"
   ]
  },
  {
   "cell_type": "markdown",
   "metadata": {},
   "source": [
    "# 4.2.1 Man-Whitney U test"
   ]
  },
  {
   "cell_type": "code",
   "execution_count": 405,
   "metadata": {},
   "outputs": [],
   "source": [
    "import pandas as pd\n",
    "path=r'B:\\...\\...\\...\\Ogun_NDHS_2013.dta'\n",
    "Ogun_ndhs2013=pd.read_stata(path)\n",
    "Variables_needed=['v313','v025', 'v012', 'v013', 'v203', 'v205', 'v218', 'v106', 'v190']\n",
    "Ogun_ndhs2013=Ogun_ndhs2013[Variables_needed]"
   ]
  },
  {
   "cell_type": "code",
   "execution_count": 406,
   "metadata": {},
   "outputs": [],
   "source": [
    "import numpy as np\n",
    "from scipy import stats\n",
    "from scipy.stats import mannwhitneyu"
   ]
  },
  {
   "cell_type": "code",
   "execution_count": 407,
   "metadata": {},
   "outputs": [
    {
     "data": {
      "text/plain": [
       "(32.143382352941174, 9.12953281002273)"
      ]
     },
     "execution_count": 407,
     "metadata": {},
     "output_type": "execute_result"
    }
   ],
   "source": [
    "age_rural=Ogun_ndhs2013[(Ogun_ndhs2013['v012']>=15) & (Ogun_ndhs2013['v025']== \"Rural\")]\n",
    "age_rural=age_rural['v012']\n",
    "age_rural.mean(), age_rural.std()"
   ]
  },
  {
   "cell_type": "code",
   "execution_count": 408,
   "metadata": {},
   "outputs": [
    {
     "data": {
      "text/plain": [
       "(30.011173184357542, 9.572070030573496)"
      ]
     },
     "execution_count": 408,
     "metadata": {},
     "output_type": "execute_result"
    }
   ],
   "source": [
    "age_urban=Ogun_ndhs2013[(Ogun_ndhs2013['v012']>=15) & (Ogun_ndhs2013['v025']== \"Urban\")]\n",
    "age_urban=age_urban['v012']\n",
    "age_urban.mean(), age_urban.std()"
   ]
  },
  {
   "cell_type": "code",
   "execution_count": 409,
   "metadata": {},
   "outputs": [
    {
     "data": {
      "text/plain": [
       "MannwhitneyuResult(statistic=42368.0, pvalue=0.0026005588156604786)"
      ]
     },
     "execution_count": 409,
     "metadata": {},
     "output_type": "execute_result"
    }
   ],
   "source": [
    "stats.mannwhitneyu(age_rural,age_urban)"
   ]
  },
  {
   "cell_type": "markdown",
   "metadata": {},
   "source": [
    "# 4.2.2 Spearman Rank Correlation"
   ]
  },
  {
   "cell_type": "code",
   "execution_count": 410,
   "metadata": {},
   "outputs": [],
   "source": [
    "import pandas as pd\n",
    "path=r'B:\\...\\...\\...\\Ogun_NDHS_2013.dta'\n",
    "Ogun_ndhs2013=pd.read_stata(path)\n",
    "Variables_needed=['v313','v025', 'v012', 'v013', 'v203', 'v205', 'v218', 'v106', 'v190']\n",
    "Ogun_ndhs2013=Ogun_ndhs2013[Variables_needed]"
   ]
  },
  {
   "cell_type": "code",
   "execution_count": 411,
   "metadata": {},
   "outputs": [],
   "source": [
    "import numpy as np\n",
    "from scipy import stats\n",
    "from scipy.stats import spearmanr"
   ]
  },
  {
   "cell_type": "code",
   "execution_count": 412,
   "metadata": {},
   "outputs": [],
   "source": [
    "Age_X=Ogun_ndhs2013['v012']\n",
    "No_Living_Chid_Y=Ogun_ndhs2013['v218']"
   ]
  },
  {
   "cell_type": "code",
   "execution_count": 413,
   "metadata": {},
   "outputs": [
    {
     "data": {
      "text/plain": [
       "SpearmanrResult(correlation=0.7243634758030785, pvalue=1.619573824686191e-103)"
      ]
     },
     "execution_count": 413,
     "metadata": {},
     "output_type": "execute_result"
    }
   ],
   "source": [
    "stats.spearmanr(Age_X, No_Living_Chid_Y)"
   ]
  },
  {
   "cell_type": "markdown",
   "metadata": {},
   "source": [
    "# 4.2.3 Kruskal Wallis"
   ]
  },
  {
   "cell_type": "code",
   "execution_count": 424,
   "metadata": {},
   "outputs": [],
   "source": [
    "import pandas as pd\n",
    "path=r'B:\\...\\...\\...\\Ogun_NDHS_2013.dta'\n",
    "Ogun_ndhs2013=pd.read_stata(path)\n",
    "Variables_needed=['v313','v025', 'v012', 'v013', 'v203', 'v205', 'v218', 'v106', 'v190']\n",
    "Ogun_ndhs2013=Ogun_ndhs2013[Variables_needed]"
   ]
  },
  {
   "cell_type": "code",
   "execution_count": 425,
   "metadata": {},
   "outputs": [],
   "source": [
    "import numpy as np\n",
    "from scipy import stats\n",
    "from scipy.stats import kruskal"
   ]
  },
  {
   "cell_type": "code",
   "execution_count": 426,
   "metadata": {},
   "outputs": [],
   "source": [
    "Only_secondary_education=Ogun_ndhs2013[(Ogun_ndhs2013['v106']=='Secondary') & (Ogun_ndhs2013['v012']>=15)]"
   ]
  },
  {
   "cell_type": "code",
   "execution_count": 427,
   "metadata": {},
   "outputs": [],
   "source": [
    "secondary_educ_age=Only_secondary_education['v012']"
   ]
  },
  {
   "cell_type": "code",
   "execution_count": 428,
   "metadata": {},
   "outputs": [],
   "source": [
    "Only_primary_education=Ogun_ndhs2013[(Ogun_ndhs2013['v106']=='Primary') & (Ogun_ndhs2013['v012']>=15)]"
   ]
  },
  {
   "cell_type": "code",
   "execution_count": 429,
   "metadata": {},
   "outputs": [],
   "source": [
    "primary_educ_age=Only_primary_education['v012']"
   ]
  },
  {
   "cell_type": "code",
   "execution_count": 430,
   "metadata": {},
   "outputs": [],
   "source": [
    "Only_NoEducation=Ogun_ndhs2013[(Ogun_ndhs2013['v106']=='No education') & (Ogun_ndhs2013['v012']>=15)]"
   ]
  },
  {
   "cell_type": "code",
   "execution_count": 431,
   "metadata": {},
   "outputs": [],
   "source": [
    "NoEducation_educ_age=Only_NoEducation['v012']"
   ]
  },
  {
   "cell_type": "code",
   "execution_count": 432,
   "metadata": {},
   "outputs": [],
   "source": [
    "Only_Higher=Ogun_ndhs2013[(Ogun_ndhs2013['v106']=='Higher') & (Ogun_ndhs2013['v012']>=15)]"
   ]
  },
  {
   "cell_type": "code",
   "execution_count": 433,
   "metadata": {},
   "outputs": [],
   "source": [
    "Higher_educ_age=Only_Higher['v012']"
   ]
  },
  {
   "cell_type": "code",
   "execution_count": 434,
   "metadata": {},
   "outputs": [
    {
     "data": {
      "text/plain": [
       "KruskalResult(statistic=46.32848785695226, pvalue=4.828906787899525e-10)"
      ]
     },
     "execution_count": 434,
     "metadata": {},
     "output_type": "execute_result"
    }
   ],
   "source": [
    "stats.kruskal(secondary_educ_age,primary_educ_age, NoEducation_educ_age, Higher_educ_age)"
   ]
  },
  {
   "cell_type": "markdown",
   "metadata": {},
   "source": [
    "# 4.2.4. Mood Median test"
   ]
  },
  {
   "cell_type": "code",
   "execution_count": 435,
   "metadata": {},
   "outputs": [],
   "source": [
    "import pandas as pd\n",
    "path=r'B:\\...\\...\\...\\Ogun_NDHS_2013.dta'\n",
    "Ogun_ndhs2013=pd.read_stata(path)\n",
    "Variables_needed=['v313','v025', 'v012', 'v013', 'v203', 'v205', 'v218', 'v106', 'v190']\n",
    "Ogun_ndhs2013=Ogun_ndhs2013[Variables_needed]"
   ]
  },
  {
   "cell_type": "code",
   "execution_count": 436,
   "metadata": {},
   "outputs": [],
   "source": [
    "import numpy as np\n",
    "from scipy import stats\n",
    "from scipy.stats import median_test"
   ]
  },
  {
   "cell_type": "code",
   "execution_count": 437,
   "metadata": {},
   "outputs": [],
   "source": [
    "Only_secondary_education=Ogun_ndhs2013[(Ogun_ndhs2013['v106']=='Secondary') & (Ogun_ndhs2013['v012']>=15)]"
   ]
  },
  {
   "cell_type": "code",
   "execution_count": 438,
   "metadata": {},
   "outputs": [],
   "source": [
    "secondary_educ_age=Only_secondary_education['v012']"
   ]
  },
  {
   "cell_type": "code",
   "execution_count": 439,
   "metadata": {},
   "outputs": [],
   "source": [
    "Only_primary_education=Ogun_ndhs2013[(Ogun_ndhs2013['v106']=='Primary') & (Ogun_ndhs2013['v012']>=15)]"
   ]
  },
  {
   "cell_type": "code",
   "execution_count": 440,
   "metadata": {},
   "outputs": [],
   "source": [
    "primary_educ_age=Only_primary_education['v012']"
   ]
  },
  {
   "cell_type": "code",
   "execution_count": 441,
   "metadata": {},
   "outputs": [],
   "source": [
    "Only_NoEducation=Ogun_ndhs2013[(Ogun_ndhs2013['v106']=='No education') & (Ogun_ndhs2013['v012']>=15)]"
   ]
  },
  {
   "cell_type": "code",
   "execution_count": 442,
   "metadata": {},
   "outputs": [],
   "source": [
    "NoEducation_educ_age=Only_NoEducation['v012']"
   ]
  },
  {
   "cell_type": "code",
   "execution_count": 443,
   "metadata": {},
   "outputs": [],
   "source": [
    "Only_Higher=Ogun_ndhs2013[(Ogun_ndhs2013['v106']=='Higher') & (Ogun_ndhs2013['v012']>=15)]"
   ]
  },
  {
   "cell_type": "code",
   "execution_count": 444,
   "metadata": {},
   "outputs": [],
   "source": [
    "Higher_educ_age=Only_Higher['v012']"
   ]
  },
  {
   "cell_type": "code",
   "execution_count": 445,
   "metadata": {},
   "outputs": [],
   "source": [
    "stat, p, med, tbl = median_test(secondary_educ_age,primary_educ_age, NoEducation_educ_age, Higher_educ_age)"
   ]
  },
  {
   "cell_type": "code",
   "execution_count": 446,
   "metadata": {},
   "outputs": [
    {
     "name": "stdout",
     "output_type": "stream",
     "text": [
      "statistic is 29.718, p_value is 0.000, median is 30.000\n"
     ]
    }
   ],
   "source": [
    "print('statistic is %0.3f, p_value is %0.3f, median is %0.3f' %(stat, p, med))"
   ]
  },
  {
   "cell_type": "code",
   "execution_count": 447,
   "metadata": {
    "scrolled": true
   },
   "outputs": [
    {
     "name": "stdout",
     "output_type": "stream",
     "text": [
      "[[114 135  41  19]\n",
      " [179  83  31  28]]\n"
     ]
    }
   ],
   "source": [
    "print(tbl)"
   ]
  },
  {
   "cell_type": "markdown",
   "metadata": {},
   "source": [
    "# 4.2.5. Goodman and Kruska's gamma"
   ]
  },
  {
   "cell_type": "code",
   "execution_count": 448,
   "metadata": {},
   "outputs": [],
   "source": [
    "import pandas as pd\n",
    "path=r'B:\\...\\...\\...\\Ogun_NDHS_2013.dta'\n",
    "Ogun_ndhs2013=pd.read_stata(path)\n",
    "Variables_needed=['v313','v025', 'v012', 'v013', 'v203', 'v205', 'v218', 'v106', 'v190']\n",
    "Ogun_ndhs2013=Ogun_ndhs2013[Variables_needed]"
   ]
  },
  {
   "cell_type": "code",
   "execution_count": 454,
   "metadata": {},
   "outputs": [],
   "source": [
    "import numpy as np\n",
    "from scipy import stats\n",
    "from scipy.stats import norm"
   ]
  },
  {
   "cell_type": "code",
   "execution_count": 455,
   "metadata": {},
   "outputs": [],
   "source": [
    "def goodmanKruskalgamma(data, row_feature, column_feature):\n",
    "    myCrosstable = pd.crosstab(data[row_feature], data[column_feature])\n",
    "    \n",
    "    nRows = myCrosstable.shape[0]\n",
    "    nCols = myCrosstable.shape[1]\n",
    "    \n",
    "    \n",
    "    C = [[0 for x in range(nCols)] for y in range(nRows)] \n",
    "\n",
    "    # top left part\n",
    "    for i in range(nRows):\n",
    "        for j in range(nCols):\n",
    "            h = i-1\n",
    "            k = j-1        \n",
    "            if h>=0 and k>=0:            \n",
    "                for p in range(h+1):\n",
    "                    for q in range(k+1):\n",
    "                        C[i][j] = C[i][j] + list(myCrosstable.iloc[p])[q]\n",
    "\n",
    "    # bottom right part                    \n",
    "    for i in range(nRows):\n",
    "        for j in range(nCols):\n",
    "            h = i+1\n",
    "            k = j+1        \n",
    "            if h<nRows and k<nCols:            \n",
    "                for p in range(h, nRows):\n",
    "                    for q in range(k, nCols):\n",
    "                        C[i][j] = C[i][j] + list(myCrosstable.iloc[p])[q]\n",
    "                        \n",
    "    D = [[0 for x in range(nCols)] for y in range(nRows)] \n",
    "\n",
    "    # bottom left part\n",
    "    for i in range(nRows):\n",
    "        for j in range(nCols):\n",
    "            h = i+1\n",
    "            k = j-1        \n",
    "            if h<nRows and k>=0:            \n",
    "                for p in range(h, nRows):\n",
    "                    for q in range(k+1):\n",
    "                        D[i][j] = D[i][j] + list(myCrosstable.iloc[p])[q]\n",
    "\n",
    "    # top right part                    \n",
    "    for i in range(nRows):\n",
    "        for j in range(nCols):\n",
    "            h = i-1\n",
    "            k = j+1        \n",
    "            if h>=0 and k<nCols:            \n",
    "                for p in range(h+1):\n",
    "                    for q in range(k, nCols):\n",
    "                        D[i][j] = D[i][j] + list(myCrosstable.iloc[p])[q]\n",
    "\n",
    "    P = 0\n",
    "    Q = 0\n",
    "    for i in range(nRows):\n",
    "        for j in range(nCols):\n",
    "            P = P + C[i][j] * list(myCrosstable.iloc[i])[j]\n",
    "            Q = Q + D[i][j] * list(myCrosstable.iloc[i])[j]\n",
    "               \n",
    "    GKgamma = (P - Q) / (P + Q)\n",
    "    \n",
    "    n = myCrosstable.sum().sum()\n",
    "    \n",
    "    Z1 = GKgamma * ((P + Q) / (n * (1 - GKgamma**2)))**0.5\n",
    "    \n",
    "    forASE_R = 0\n",
    "    forASE_SPSS = 0\n",
    "    for i in range(nRows):\n",
    "        for j in range(nCols):\n",
    "            forASE_R = forASE_R + list(myCrosstable.iloc[i])[j] * (Q * C[i][j] - P * D[i][j])**2\n",
    "            forASE_SPSS = forASE_SPSS + list(myCrosstable.iloc[i])[j] * (C[i][j] - D[i][j])**2\n",
    "\n",
    "    ASE_R = 4 * (forASE_R)**0.5 / (P + Q)**2\n",
    "    ASE_SPSS = 2 * (forASE_SPSS - (P - Q)**2 / n)**0.5 / (P + Q)        \n",
    "    Z_R = GKgamma / ASE_R\n",
    "    Z_SPSS = GKgamma / ASE_SPSS\n",
    "    \n",
    "    from scipy.stats import norm\n",
    "    \n",
    "    p1 = norm.sf(Z1)\n",
    "    p2_R = norm.sf(Z_R)\n",
    "    p3_SPSS = norm.sf(Z_SPSS)\n",
    "            \n",
    "    return print('gamma statistic is %0.3f, p_value for R Software is %0.3f, ASE for R software is %0.3f, p_value for SPSS is %0.3f, ASE for SPSS is %0.3f' %(GKgamma,p2_R,Z_R,p3_SPSS,Z_SPSS))"
   ]
  },
  {
   "cell_type": "code",
   "execution_count": 449,
   "metadata": {},
   "outputs": [
    {
     "data": {
      "text/plain": [
       "25-29    122\n",
       "30-34    108\n",
       "35-39     88\n",
       "15-19     88\n",
       "20-24     82\n",
       "40-44     80\n",
       "45-49     62\n",
       "Name: v013, dtype: int64"
      ]
     },
     "execution_count": 449,
     "metadata": {},
     "output_type": "execute_result"
    }
   ],
   "source": [
    "Ogun_ndhs2013['v013'].value_counts()"
   ]
  },
  {
   "cell_type": "code",
   "execution_count": 450,
   "metadata": {},
   "outputs": [
    {
     "data": {
      "text/plain": [
       "Richest    237\n",
       "Richer     237\n",
       "Middle     114\n",
       "Poorer      40\n",
       "Poorest      2\n",
       "Name: v190, dtype: int64"
      ]
     },
     "execution_count": 450,
     "metadata": {},
     "output_type": "execute_result"
    }
   ],
   "source": [
    "Ogun_ndhs2013['v190'].value_counts() "
   ]
  },
  {
   "cell_type": "code",
   "execution_count": 451,
   "metadata": {},
   "outputs": [],
   "source": [
    "#We will recode into: No method, Modern Method, and Others\n",
    "recode_v190 =  { \"v190\": \n",
    "                             {\"Richest\": 'Rich',  \n",
    "                              \"Richer\": 'Rich',  \n",
    "                              \"Middle\": 'Middle',  \n",
    "                              \"Poorer\": 'Poor' ,\n",
    "                              \"Poorest\": 'Poor'}\n",
    "             }    \n",
    "\n",
    "Ogun_ndhs2013.replace(recode_v190, inplace=True)"
   ]
  },
  {
   "cell_type": "code",
   "execution_count": 452,
   "metadata": {},
   "outputs": [
    {
     "data": {
      "text/html": [
       "<div>\n",
       "<style scoped>\n",
       "    .dataframe tbody tr th:only-of-type {\n",
       "        vertical-align: middle;\n",
       "    }\n",
       "\n",
       "    .dataframe tbody tr th {\n",
       "        vertical-align: top;\n",
       "    }\n",
       "\n",
       "    .dataframe thead th {\n",
       "        text-align: right;\n",
       "    }\n",
       "</style>\n",
       "<table border=\"1\" class=\"dataframe\">\n",
       "  <thead>\n",
       "    <tr style=\"text-align: right;\">\n",
       "      <th>v190</th>\n",
       "      <th>Middle</th>\n",
       "      <th>Poor</th>\n",
       "      <th>Rich</th>\n",
       "    </tr>\n",
       "    <tr>\n",
       "      <th>v013</th>\n",
       "      <th></th>\n",
       "      <th></th>\n",
       "      <th></th>\n",
       "    </tr>\n",
       "  </thead>\n",
       "  <tbody>\n",
       "    <tr>\n",
       "      <th>15-19</th>\n",
       "      <td>11</td>\n",
       "      <td>5</td>\n",
       "      <td>72</td>\n",
       "    </tr>\n",
       "    <tr>\n",
       "      <th>20-24</th>\n",
       "      <td>13</td>\n",
       "      <td>4</td>\n",
       "      <td>65</td>\n",
       "    </tr>\n",
       "    <tr>\n",
       "      <th>25-29</th>\n",
       "      <td>27</td>\n",
       "      <td>4</td>\n",
       "      <td>91</td>\n",
       "    </tr>\n",
       "    <tr>\n",
       "      <th>30-34</th>\n",
       "      <td>16</td>\n",
       "      <td>11</td>\n",
       "      <td>81</td>\n",
       "    </tr>\n",
       "    <tr>\n",
       "      <th>35-39</th>\n",
       "      <td>16</td>\n",
       "      <td>6</td>\n",
       "      <td>66</td>\n",
       "    </tr>\n",
       "    <tr>\n",
       "      <th>40-44</th>\n",
       "      <td>16</td>\n",
       "      <td>6</td>\n",
       "      <td>58</td>\n",
       "    </tr>\n",
       "    <tr>\n",
       "      <th>45-49</th>\n",
       "      <td>15</td>\n",
       "      <td>6</td>\n",
       "      <td>41</td>\n",
       "    </tr>\n",
       "  </tbody>\n",
       "</table>\n",
       "</div>"
      ],
      "text/plain": [
       "v190   Middle  Poor  Rich\n",
       "v013                     \n",
       "15-19      11     5    72\n",
       "20-24      13     4    65\n",
       "25-29      27     4    91\n",
       "30-34      16    11    81\n",
       "35-39      16     6    66\n",
       "40-44      16     6    58\n",
       "45-49      15     6    41"
      ]
     },
     "execution_count": 452,
     "metadata": {},
     "output_type": "execute_result"
    }
   ],
   "source": [
    "myCrosstable = pd.crosstab(Ogun_ndhs2013['v013'], Ogun_ndhs2013['v190'])\n",
    "myCrosstable"
   ]
  },
  {
   "cell_type": "code",
   "execution_count": 453,
   "metadata": {},
   "outputs": [
    {
     "data": {
      "text/plain": [
       "Rich      474\n",
       "Middle    114\n",
       "Poor       42\n",
       "Name: v190, dtype: int64"
      ]
     },
     "execution_count": 453,
     "metadata": {},
     "output_type": "execute_result"
    }
   ],
   "source": [
    "Ogun_ndhs2013['v190'].value_counts() "
   ]
  },
  {
   "cell_type": "code",
   "execution_count": 456,
   "metadata": {
    "scrolled": true
   },
   "outputs": [
    {
     "name": "stdout",
     "output_type": "stream",
     "text": [
      "gamma statistic is -0.122, p_value for R Software is 0.983, ASE for R software is -2.110, p_value for SPSS is 0.982, ASE for SPSS is -2.093\n"
     ]
    }
   ],
   "source": [
    "goodmanKruskalgamma(Ogun_ndhs2013, 'v013', 'v190')"
   ]
  },
  {
   "cell_type": "markdown",
   "metadata": {},
   "source": [
    "# 4.2.6 Chi-square Goodness of fit test"
   ]
  },
  {
   "cell_type": "code",
   "execution_count": 485,
   "metadata": {},
   "outputs": [],
   "source": [
    "import pandas as pd\n",
    "path=r'B:\\...\\...\\...\\Ogun_NDHS_2013.dta'\n",
    "Ogun_ndhs2013=pd.read_stata(path)\n",
    "Variables_needed=['v313','v025', 'v012', 'v013', 'v203', 'v205', 'v218', 'v106', 'v190']\n",
    "Ogun_ndhs2013=Ogun_ndhs2013[Variables_needed]"
   ]
  },
  {
   "cell_type": "code",
   "execution_count": 486,
   "metadata": {},
   "outputs": [],
   "source": [
    "import sklearn as svm\n",
    "from sklearn.feature_selection import chi2"
   ]
  },
  {
   "cell_type": "code",
   "execution_count": 487,
   "metadata": {},
   "outputs": [
    {
     "data": {
      "text/plain": [
       "No method             489\n",
       "Modern method         118\n",
       "Traditional method     16\n",
       "Folkloric method        7\n",
       "Name: v313, dtype: int64"
      ]
     },
     "execution_count": 487,
     "metadata": {},
     "output_type": "execute_result"
    }
   ],
   "source": [
    "Ogun_ndhs2013 ['v313'].value_counts()"
   ]
  },
  {
   "cell_type": "code",
   "execution_count": 488,
   "metadata": {},
   "outputs": [],
   "source": [
    "X_y=Ogun_ndhs2013[['v313','v025']]"
   ]
  },
  {
   "cell_type": "code",
   "execution_count": 489,
   "metadata": {},
   "outputs": [
    {
     "data": {
      "text/plain": [
       "(630, 2)"
      ]
     },
     "execution_count": 489,
     "metadata": {},
     "output_type": "execute_result"
    }
   ],
   "source": [
    "X_y.shape"
   ]
  },
  {
   "cell_type": "code",
   "execution_count": 490,
   "metadata": {},
   "outputs": [
    {
     "data": {
      "text/plain": [
       "No method             489\n",
       "Modern method         118\n",
       "Traditional method     16\n",
       "Folkloric method        7\n",
       "Name: v313, dtype: int64"
      ]
     },
     "execution_count": 490,
     "metadata": {},
     "output_type": "execute_result"
    }
   ],
   "source": [
    "X_y['v313'].value_counts()"
   ]
  },
  {
   "cell_type": "code",
   "execution_count": 491,
   "metadata": {},
   "outputs": [
    {
     "data": {
      "text/plain": [
       "Urban    358\n",
       "Rural    272\n",
       "Name: v025, dtype: int64"
      ]
     },
     "execution_count": 491,
     "metadata": {},
     "output_type": "execute_result"
    }
   ],
   "source": [
    "X_y['v025'].value_counts()"
   ]
  },
  {
   "cell_type": "code",
   "execution_count": 492,
   "metadata": {},
   "outputs": [],
   "source": [
    "#We will recode v313 into 2-response-category designated as 1 and 0\n",
    "v313_recode =  { \"v313\": \n",
    "                             {\"No method\": 0,  \n",
    "                              \"Modern method\": 1,  \n",
    "                              \"Traditional method\": 0,  \n",
    "                              \"Folkloric method\": 0}\n",
    "             }    \n",
    "\n",
    "X_y.replace(v313_recode, inplace=True)"
   ]
  },
  {
   "cell_type": "code",
   "execution_count": 493,
   "metadata": {},
   "outputs": [
    {
     "data": {
      "text/plain": [
       "0    512\n",
       "1    118\n",
       "Name: v313, dtype: int64"
      ]
     },
     "execution_count": 493,
     "metadata": {},
     "output_type": "execute_result"
    }
   ],
   "source": [
    "X_y['v313'].value_counts()"
   ]
  },
  {
   "cell_type": "code",
   "execution_count": 494,
   "metadata": {},
   "outputs": [],
   "source": [
    "#We will recode v025 into 2-response-category designated as 1 and 2\n",
    "v025_recode =  { \"v025\": \n",
    "                             {\"Urban\": 1,  \n",
    "                              \"Rural\": 2}\n",
    "             }    \n",
    "\n",
    "X_y.replace(v025_recode, inplace=True)"
   ]
  },
  {
   "cell_type": "code",
   "execution_count": 495,
   "metadata": {
    "scrolled": true
   },
   "outputs": [
    {
     "data": {
      "text/plain": [
       "1    358\n",
       "2    272\n",
       "Name: v025, dtype: int64"
      ]
     },
     "execution_count": 495,
     "metadata": {},
     "output_type": "execute_result"
    }
   ],
   "source": [
    "X_y['v025'].value_counts()"
   ]
  },
  {
   "cell_type": "code",
   "execution_count": 496,
   "metadata": {},
   "outputs": [],
   "source": [
    "X = X_y.drop('v313',axis=1)\n",
    "y = X_y['v313']"
   ]
  },
  {
   "cell_type": "code",
   "execution_count": 497,
   "metadata": {},
   "outputs": [],
   "source": [
    "chi_scores = chi2(X, y)"
   ]
  },
  {
   "cell_type": "code",
   "execution_count": 498,
   "metadata": {},
   "outputs": [
    {
     "name": "stdout",
     "output_type": "stream",
     "text": [
      "statistic=0.00002121, p_value=0.99632516\n"
     ]
    }
   ],
   "source": [
    "print('statistic=%.8f, p_value=%.8f' % (chi_scores[0], chi_scores[1]))"
   ]
  },
  {
   "cell_type": "markdown",
   "metadata": {},
   "source": [
    "# 4.2.7 Mcnemar test"
   ]
  },
  {
   "cell_type": "code",
   "execution_count": 499,
   "metadata": {},
   "outputs": [],
   "source": [
    "import pandas as pd\n",
    "path=r'B:\\...\\...\\...\\Ogun_NDHS_2013.dta'\n",
    "Ogun_ndhs2013=pd.read_stata(path)\n",
    "Variables_needed=['v313','v025', 'v012', 'v013', 'v203', 'v205', 'v218', 'v106', 'v190']\n",
    "Ogun_ndhs2013=Ogun_ndhs2013[Variables_needed]"
   ]
  },
  {
   "cell_type": "code",
   "execution_count": 510,
   "metadata": {},
   "outputs": [],
   "source": [
    "import numpy as np\n",
    "import statsmodels as sm\n",
    "import statsmodels.stats as sms\n",
    "from statsmodels.stats.contingency_tables import mcnemar"
   ]
  },
  {
   "cell_type": "code",
   "execution_count": 500,
   "metadata": {},
   "outputs": [
    {
     "data": {
      "text/plain": [
       "No method             77.619048\n",
       "Modern method         18.730159\n",
       "Traditional method     2.539683\n",
       "Folkloric method       1.111111\n",
       "Name: v313, dtype: float64"
      ]
     },
     "execution_count": 500,
     "metadata": {},
     "output_type": "execute_result"
    }
   ],
   "source": [
    "#We would use variable - v313\n",
    "\n",
    "Ogun_ndhs2013 ['v313'].value_counts(normalize=True) * 100"
   ]
  },
  {
   "cell_type": "code",
   "execution_count": 501,
   "metadata": {},
   "outputs": [],
   "source": [
    "Ogun_ndhs2013['pre_test_using_modern_method']=Ogun_ndhs2013['v313']"
   ]
  },
  {
   "cell_type": "code",
   "execution_count": 502,
   "metadata": {},
   "outputs": [],
   "source": [
    "#We will recode into: Yes, No\n",
    "pre_recode =  { \"pre_test_using_modern_method\": \n",
    "                             {\"No method\": 'No',  \n",
    "                              \"Modern method\": 'Yes',  \n",
    "                              \"Traditional method\": 'No',  \n",
    "                              \"Folkloric method\": 'No'}\n",
    "             }    \n",
    "\n",
    "Ogun_ndhs2013.replace(pre_recode, inplace=True)"
   ]
  },
  {
   "cell_type": "code",
   "execution_count": 503,
   "metadata": {},
   "outputs": [
    {
     "data": {
      "text/plain": [
       "No     81.269841\n",
       "Yes    18.730159\n",
       "Name: pre_test_using_modern_method, dtype: float64"
      ]
     },
     "execution_count": 503,
     "metadata": {},
     "output_type": "execute_result"
    }
   ],
   "source": [
    "Ogun_ndhs2013 ['pre_test_using_modern_method'].value_counts(normalize=True) * 100"
   ]
  },
  {
   "cell_type": "code",
   "execution_count": 504,
   "metadata": {},
   "outputs": [],
   "source": [
    "Ogun_ndhs2013['post_test_using_modern_method']=Ogun_ndhs2013['v313']"
   ]
  },
  {
   "cell_type": "code",
   "execution_count": 505,
   "metadata": {
    "scrolled": true
   },
   "outputs": [
    {
     "data": {
      "text/plain": [
       "No method             77.619048\n",
       "Modern method         18.730159\n",
       "Traditional method     2.539683\n",
       "Folkloric method       1.111111\n",
       "Name: post_test_using_modern_method, dtype: float64"
      ]
     },
     "execution_count": 505,
     "metadata": {},
     "output_type": "execute_result"
    }
   ],
   "source": [
    "Ogun_ndhs2013 ['post_test_using_modern_method'].value_counts(normalize=True) * 100"
   ]
  },
  {
   "cell_type": "code",
   "execution_count": 506,
   "metadata": {},
   "outputs": [],
   "source": [
    "#We will recode into: No method, Modern Method, and Others\n",
    "post_recode =  { \"post_test_using_modern_method\": \n",
    "                             {\"No method\": 'No',  \n",
    "                              \"Modern method\": 'Yes',  \n",
    "                              \"Traditional method\": 'Yes',  \n",
    "                              \"Folkloric method\": 'Yes'}\n",
    "             }    \n",
    "\n",
    "Ogun_ndhs2013.replace(post_recode, inplace=True)"
   ]
  },
  {
   "cell_type": "code",
   "execution_count": 507,
   "metadata": {},
   "outputs": [
    {
     "data": {
      "text/plain": [
       "No     77.619048\n",
       "Yes    22.380952\n",
       "Name: post_test_using_modern_method, dtype: float64"
      ]
     },
     "execution_count": 507,
     "metadata": {},
     "output_type": "execute_result"
    }
   ],
   "source": [
    "Ogun_ndhs2013 ['post_test_using_modern_method'].value_counts(normalize=True) * 100"
   ]
  },
  {
   "cell_type": "markdown",
   "metadata": {},
   "source": [
    "#We would make a contingency table first"
   ]
  },
  {
   "cell_type": "code",
   "execution_count": 509,
   "metadata": {},
   "outputs": [
    {
     "name": "stdout",
     "output_type": "stream",
     "text": [
      "post_test_using_modern_method   No  Yes\n",
      "pre_test_using_modern_method           \n",
      "No                             489   23\n",
      "Yes                              0  118\n"
     ]
    }
   ],
   "source": [
    "tab0=pd.crosstab(index=Ogun_ndhs2013.pre_test_using_modern_method, columns=Ogun_ndhs2013.post_test_using_modern_method)\n",
    "print(tab0)"
   ]
  },
  {
   "cell_type": "code",
   "execution_count": 513,
   "metadata": {},
   "outputs": [],
   "source": [
    "# We can re-construct the table as: \n",
    "# define contingency table\n",
    "table = [[489, 23],\n",
    "         [0, 118]]"
   ]
  },
  {
   "cell_type": "code",
   "execution_count": 511,
   "metadata": {},
   "outputs": [],
   "source": [
    "result=mcnemar(tab0, exact=True)"
   ]
  },
  {
   "cell_type": "code",
   "execution_count": 514,
   "metadata": {
    "scrolled": true
   },
   "outputs": [
    {
     "name": "stdout",
     "output_type": "stream",
     "text": [
      "statistic=0.000000, p-value=0.000000\n"
     ]
    }
   ],
   "source": [
    "# summarize the finding\n",
    "print('statistic=%.6f, p-value=%.6f' % (result.statistic, result.pvalue))"
   ]
  },
  {
   "cell_type": "markdown",
   "metadata": {},
   "source": [
    "# 4.2.8 Kendall Tau Correlation"
   ]
  },
  {
   "cell_type": "code",
   "execution_count": null,
   "metadata": {},
   "outputs": [],
   "source": [
    "import pandas as pd\n",
    "path=r'B:\\...\\...\\...\\Ogun_NDHS_2013.dta'\n",
    "Ogun_ndhs2013=pd.read_stata(path)\n",
    "Variables_needed=['v313','v025', 'v012', 'v013', 'v203', 'v205', 'v218', 'v106', 'v190']\n",
    "Ogun_ndhs2013=Ogun_ndhs2013[Variables_needed]"
   ]
  },
  {
   "cell_type": "code",
   "execution_count": 2,
   "metadata": {},
   "outputs": [],
   "source": [
    "import numpy as np\n",
    "from scipy import stats\n",
    "from scipy.stats import kendalltau"
   ]
  },
  {
   "cell_type": "code",
   "execution_count": 3,
   "metadata": {},
   "outputs": [],
   "source": [
    "Age_X=Ogun_ndhs2013['v012']\n",
    "No_Living_Chid_Y=Ogun_ndhs2013['v218']"
   ]
  },
  {
   "cell_type": "code",
   "execution_count": 4,
   "metadata": {},
   "outputs": [
    {
     "data": {
      "text/plain": [
       "KendalltauResult(correlation=0.5718627090947149, pvalue=4.569783938686728e-87)"
      ]
     },
     "execution_count": 4,
     "metadata": {},
     "output_type": "execute_result"
    }
   ],
   "source": [
    "stats.kendalltau(Age_X, No_Living_Chid_Y)"
   ]
  },
  {
   "cell_type": "code",
   "execution_count": 5,
   "metadata": {},
   "outputs": [],
   "source": [
    "tau, p_value = kendalltau(Age_X, No_Living_Chid_Y)"
   ]
  },
  {
   "cell_type": "code",
   "execution_count": 6,
   "metadata": {},
   "outputs": [
    {
     "data": {
      "text/plain": [
       "(0.5718627090947149, 4.569783938686728e-87)"
      ]
     },
     "execution_count": 6,
     "metadata": {},
     "output_type": "execute_result"
    }
   ],
   "source": [
    "tau, p_value"
   ]
  }
 ],
 "metadata": {
  "kernelspec": {
   "display_name": "Python 3",
   "language": "python",
   "name": "python3"
  },
  "language_info": {
   "codemirror_mode": {
    "name": "ipython",
    "version": 3
   },
   "file_extension": ".py",
   "mimetype": "text/x-python",
   "name": "python",
   "nbconvert_exporter": "python",
   "pygments_lexer": "ipython3",
   "version": "3.7.3"
  }
 },
 "nbformat": 4,
 "nbformat_minor": 4
}
