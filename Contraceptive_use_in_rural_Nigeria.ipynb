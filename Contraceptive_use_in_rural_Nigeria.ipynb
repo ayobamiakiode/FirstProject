{
 "cells": [
  {
   "cell_type": "code",
   "execution_count": 334,
   "metadata": {},
   "outputs": [],
   "source": [
    "import pandas as pd\n",
    "import numpy as np\n",
    "import matplotlib.pyplot as plt\n",
    "%matplotlib inline\n",
    "import matplotlib.pyplot as plt \n",
    "plt.rc(\"font\", size=14)\n",
    "import seaborn as sns\n",
    "from scipy import stats\n",
    "from scipy.stats import norm\n",
    "from scipy.stats import chi2_contingency\n",
    "from scipy.stats import chi2\n",
    "from fractions import Fraction as frac\n",
    "from sklearn import utils\n",
    "from sklearn import preprocessing\n",
    "from sklearn.linear_model import LogisticRegression\n",
    "from sklearn.model_selection import train_test_split\n",
    "from sklearn.datasets import make_classification\n",
    "from sklearn.model_selection import cross_validate\n",
    "from imblearn.over_sampling import SMOTE\n",
    "import seaborn as sns\n",
    "sns.set(style=\"white\")\n",
    "sns.set(style=\"whitegrid\", color_codes=True)\n",
    "import eli5\n",
    "from eli5.sklearn import PermutationImportance\n",
    "from sklearn.externals import joblib"
   ]
  },
  {
   "cell_type": "code",
   "execution_count": 10,
   "metadata": {},
   "outputs": [],
   "source": [
    "# Specify the path directory to the stata dataset on your computer so as to import it into pandas\n",
    "path=r'B:\\NGIR7AFL.dta'\n",
    "\n",
    "# Read the stata dataset into pandas (as its dataframe) and name the dataframe as DHS \n",
    "DHS=pd.read_stata(path)"
   ]
  },
  {
   "cell_type": "code",
   "execution_count": 11,
   "metadata": {},
   "outputs": [],
   "source": [
    "# We need to select only the variables needed in this analysis, and drop the remaining. \n",
    "Variables_needed=['v024', 'v130', 'v502', 'v025', 'v106', 'v190', 'v201', 'v536', 'v013', 'v714', 'v313' ] # These are the only variables needed in this analysis.\n",
    "\n",
    "# Select only the variables needed in this analysis in the DHS, and drop the remaining.\n",
    "# Note: The selected variables already exist in the DHS, we are just retaining them and dropping others \n",
    "# E.g v303 is in the dataset but is dropped from the DHS at this point since it is not among those selected into Variables_needed such as v130, v501, ... \n",
    "Total_Sample=DHS[Variables_needed]  "
   ]
  },
  {
   "cell_type": "code",
   "execution_count": 17,
   "metadata": {},
   "outputs": [
    {
     "name": "stdout",
     "output_type": "stream",
     "text": [
      "(41821, 11)\n",
      "Index(['v024', 'v130', 'v502', 'v025', 'v106', 'v190', 'v201', 'v536', 'v013',\n",
      "       'v714', 'v313'],\n",
      "      dtype='object')\n"
     ]
    }
   ],
   "source": [
    "print(Total_Sample.shape)\n",
    "print(Total_Sample.columns)"
   ]
  },
  {
   "cell_type": "code",
   "execution_count": 16,
   "metadata": {},
   "outputs": [
    {
     "ename": "SyntaxError",
     "evalue": "invalid syntax (<ipython-input-16-c4e345bf8d17>, line 2)",
     "output_type": "error",
     "traceback": [
      "\u001b[1;36m  File \u001b[1;32m\"<ipython-input-16-c4e345bf8d17>\"\u001b[1;36m, line \u001b[1;32m2\u001b[0m\n\u001b[1;33m    if Total_Sample.columns[1]=='v130'\u001b[0m\n\u001b[1;37m                                      ^\u001b[0m\n\u001b[1;31mSyntaxError\u001b[0m\u001b[1;31m:\u001b[0m invalid syntax\n"
     ]
    }
   ],
   "source": [
    "for i in Total_Sample.columns:\n",
    "    if Total_Sample.columns[1]=='v130'\n",
    "    print('This is v130')"
   ]
  },
  {
   "cell_type": "code",
   "execution_count": 18,
   "metadata": {
    "scrolled": true
   },
   "outputs": [
    {
     "data": {
      "text/html": [
       "<div>\n",
       "<style scoped>\n",
       "    .dataframe tbody tr th:only-of-type {\n",
       "        vertical-align: middle;\n",
       "    }\n",
       "\n",
       "    .dataframe tbody tr th {\n",
       "        vertical-align: top;\n",
       "    }\n",
       "\n",
       "    .dataframe thead th {\n",
       "        text-align: right;\n",
       "    }\n",
       "</style>\n",
       "<table border=\"1\" class=\"dataframe\">\n",
       "  <thead>\n",
       "    <tr style=\"text-align: right;\">\n",
       "      <th></th>\n",
       "      <th>v024</th>\n",
       "      <th>v130</th>\n",
       "      <th>v502</th>\n",
       "      <th>v025</th>\n",
       "      <th>v106</th>\n",
       "      <th>v190</th>\n",
       "      <th>v201</th>\n",
       "      <th>v536</th>\n",
       "      <th>v013</th>\n",
       "      <th>v714</th>\n",
       "      <th>v313</th>\n",
       "    </tr>\n",
       "  </thead>\n",
       "  <tbody>\n",
       "    <tr>\n",
       "      <th>0</th>\n",
       "      <td>north central</td>\n",
       "      <td>other christian</td>\n",
       "      <td>currently in union/living with a man</td>\n",
       "      <td>urban</td>\n",
       "      <td>higher</td>\n",
       "      <td>richest</td>\n",
       "      <td>3</td>\n",
       "      <td>not active in last 4 weeks - not postpartum ab...</td>\n",
       "      <td>40-44</td>\n",
       "      <td>yes</td>\n",
       "      <td>no method</td>\n",
       "    </tr>\n",
       "    <tr>\n",
       "      <th>1</th>\n",
       "      <td>north central</td>\n",
       "      <td>other christian</td>\n",
       "      <td>never in union</td>\n",
       "      <td>urban</td>\n",
       "      <td>secondary</td>\n",
       "      <td>richest</td>\n",
       "      <td>0</td>\n",
       "      <td>never had sex</td>\n",
       "      <td>15-19</td>\n",
       "      <td>no</td>\n",
       "      <td>no method</td>\n",
       "    </tr>\n",
       "    <tr>\n",
       "      <th>2</th>\n",
       "      <td>north central</td>\n",
       "      <td>catholic</td>\n",
       "      <td>currently in union/living with a man</td>\n",
       "      <td>urban</td>\n",
       "      <td>higher</td>\n",
       "      <td>richest</td>\n",
       "      <td>3</td>\n",
       "      <td>not active in last 4 weeks - not postpartum ab...</td>\n",
       "      <td>35-39</td>\n",
       "      <td>no</td>\n",
       "      <td>no method</td>\n",
       "    </tr>\n",
       "    <tr>\n",
       "      <th>3</th>\n",
       "      <td>north central</td>\n",
       "      <td>other christian</td>\n",
       "      <td>currently in union/living with a man</td>\n",
       "      <td>urban</td>\n",
       "      <td>higher</td>\n",
       "      <td>richest</td>\n",
       "      <td>1</td>\n",
       "      <td>active in last 4 weeks</td>\n",
       "      <td>25-29</td>\n",
       "      <td>yes</td>\n",
       "      <td>modern method</td>\n",
       "    </tr>\n",
       "    <tr>\n",
       "      <th>4</th>\n",
       "      <td>north central</td>\n",
       "      <td>other christian</td>\n",
       "      <td>never in union</td>\n",
       "      <td>urban</td>\n",
       "      <td>secondary</td>\n",
       "      <td>richest</td>\n",
       "      <td>0</td>\n",
       "      <td>active in last 4 weeks</td>\n",
       "      <td>25-29</td>\n",
       "      <td>yes</td>\n",
       "      <td>no method</td>\n",
       "    </tr>\n",
       "  </tbody>\n",
       "</table>\n",
       "</div>"
      ],
      "text/plain": [
       "            v024             v130                                  v502  \\\n",
       "0  north central  other christian  currently in union/living with a man   \n",
       "1  north central  other christian                        never in union   \n",
       "2  north central         catholic  currently in union/living with a man   \n",
       "3  north central  other christian  currently in union/living with a man   \n",
       "4  north central  other christian                        never in union   \n",
       "\n",
       "    v025       v106     v190  v201  \\\n",
       "0  urban     higher  richest     3   \n",
       "1  urban  secondary  richest     0   \n",
       "2  urban     higher  richest     3   \n",
       "3  urban     higher  richest     1   \n",
       "4  urban  secondary  richest     0   \n",
       "\n",
       "                                                v536   v013 v714  \\\n",
       "0  not active in last 4 weeks - not postpartum ab...  40-44  yes   \n",
       "1                                      never had sex  15-19   no   \n",
       "2  not active in last 4 weeks - not postpartum ab...  35-39   no   \n",
       "3                             active in last 4 weeks  25-29  yes   \n",
       "4                             active in last 4 weeks  25-29  yes   \n",
       "\n",
       "            v313  \n",
       "0      no method  \n",
       "1      no method  \n",
       "2      no method  \n",
       "3  modern method  \n",
       "4      no method  "
      ]
     },
     "execution_count": 18,
     "metadata": {},
     "output_type": "execute_result"
    }
   ],
   "source": [
    "Total_Sample.head()"
   ]
  },
  {
   "cell_type": "code",
   "execution_count": 19,
   "metadata": {},
   "outputs": [
    {
     "name": "stdout",
     "output_type": "stream",
     "text": [
      "<class 'pandas.core.frame.DataFrame'>\n",
      "Int64Index: 41821 entries, 0 to 41820\n",
      "Data columns (total 11 columns):\n",
      "v024    41821 non-null category\n",
      "v130    41821 non-null category\n",
      "v502    41821 non-null category\n",
      "v025    41821 non-null category\n",
      "v106    41821 non-null category\n",
      "v190    41821 non-null category\n",
      "v201    41821 non-null int8\n",
      "v536    41821 non-null category\n",
      "v013    41821 non-null category\n",
      "v714    41821 non-null category\n",
      "v313    41821 non-null category\n",
      "dtypes: category(10), int8(1)\n",
      "memory usage: 777.8 KB\n"
     ]
    }
   ],
   "source": [
    "Total_Sample.info()"
   ]
  },
  {
   "cell_type": "code",
   "execution_count": 20,
   "metadata": {},
   "outputs": [
    {
     "data": {
      "text/plain": [
       "[urban, rural]\n",
       "Categories (2, object): [urban < rural]"
      ]
     },
     "execution_count": 20,
     "metadata": {},
     "output_type": "execute_result"
    }
   ],
   "source": [
    "Total_Sample['v025'].unique()"
   ]
  },
  {
   "cell_type": "code",
   "execution_count": 21,
   "metadata": {},
   "outputs": [
    {
     "data": {
      "text/plain": [
       "rural    24837\n",
       "urban    16984\n",
       "Name: v025, dtype: int64"
      ]
     },
     "execution_count": 21,
     "metadata": {},
     "output_type": "execute_result"
    }
   ],
   "source": [
    "# Run frequency of type of place of residence variable - v025, since in this analysis, we will still need to slice our dataset to only those living in rural area. \n",
    "Total_Sample['v025'].value_counts()"
   ]
  },
  {
   "cell_type": "code",
   "execution_count": 22,
   "metadata": {},
   "outputs": [],
   "source": [
    "# Now we want to drop data relating to urban respondents from the dataframe, so that the dataframe will only contain rural respondents data \n",
    "Rural_data_only=Total_Sample.drop(Total_Sample[Total_Sample['v025']=='urban'].index) "
   ]
  },
  {
   "cell_type": "code",
   "execution_count": 23,
   "metadata": {},
   "outputs": [
    {
     "data": {
      "text/plain": [
       "rural    24837\n",
       "urban        0\n",
       "Name: v025, dtype: int64"
      ]
     },
     "execution_count": 23,
     "metadata": {},
     "output_type": "execute_result"
    }
   ],
   "source": [
    "# Run frequency of type of place of residence variable - v025 again, to see if the urban respondents data have been deleted from our new dataframe, which is - Rural_data_only\n",
    "Rural_data_only['v025'].value_counts()"
   ]
  },
  {
   "cell_type": "code",
   "execution_count": 24,
   "metadata": {},
   "outputs": [
    {
     "name": "stdout",
     "output_type": "stream",
     "text": [
      "(24837, 11)\n"
     ]
    }
   ],
   "source": [
    "print(Rural_data_only.shape)"
   ]
  },
  {
   "cell_type": "code",
   "execution_count": 25,
   "metadata": {},
   "outputs": [],
   "source": [
    "# Since, we no longer require the variable - v025 from our dataframe, we can remove it from our new dataframe - Rural_data_only\n",
    "# Note: The variable - v025 just help us slice our dataframe into what we need for our analysis. That is its only usefulness for our analysis\n",
    "Rural_data_only=Rural_data_only.drop('v025',axis=1)"
   ]
  },
  {
   "cell_type": "code",
   "execution_count": 26,
   "metadata": {},
   "outputs": [
    {
     "name": "stdout",
     "output_type": "stream",
     "text": [
      "<class 'pandas.core.frame.DataFrame'>\n",
      "Int64Index: 24837 entries, 153 to 41820\n",
      "Data columns (total 10 columns):\n",
      "v024    24837 non-null category\n",
      "v130    24837 non-null category\n",
      "v502    24837 non-null category\n",
      "v106    24837 non-null category\n",
      "v190    24837 non-null category\n",
      "v201    24837 non-null int8\n",
      "v536    24837 non-null category\n",
      "v013    24837 non-null category\n",
      "v714    24837 non-null category\n",
      "v313    24837 non-null category\n",
      "dtypes: category(9), int8(1)\n",
      "memory usage: 438.3 KB\n"
     ]
    }
   ],
   "source": [
    "Rural_data_only.info() # To check if the feature v025 is still in the dataframe "
   ]
  },
  {
   "cell_type": "code",
   "execution_count": 27,
   "metadata": {},
   "outputs": [
    {
     "data": {
      "text/plain": [
       "[no method, modern method, traditional method, folkloric method]\n",
       "Categories (4, object): [no method < folkloric method < traditional method < modern method]"
      ]
     },
     "execution_count": 27,
     "metadata": {},
     "output_type": "execute_result"
    }
   ],
   "source": [
    "Total_Sample['v313'].unique()"
   ]
  },
  {
   "cell_type": "code",
   "execution_count": 28,
   "metadata": {},
   "outputs": [
    {
     "data": {
      "text/plain": [
       "no method             22317\n",
       "modern method          1998\n",
       "traditional method      432\n",
       "folkloric method         90\n",
       "Name: v313, dtype: int64"
      ]
     },
     "execution_count": 28,
     "metadata": {},
     "output_type": "execute_result"
    }
   ],
   "source": [
    "# In the newly created dataframe - Rural_data_only, lets run the frequency of the variable - v313, which is the variable measuring contraceptive use\n",
    "Rural_data_only['v313'].value_counts()"
   ]
  },
  {
   "cell_type": "code",
   "execution_count": 29,
   "metadata": {},
   "outputs": [
    {
     "data": {
      "text/plain": [
       "no method             89.853847\n",
       "modern method          8.044450\n",
       "traditional method     1.739341\n",
       "folkloric method       0.362363\n",
       "Name: v313, dtype: float64"
      ]
     },
     "execution_count": 29,
     "metadata": {},
     "output_type": "execute_result"
    }
   ],
   "source": [
    "Rural_data_only['v313'].value_counts(normalize=True) * 100"
   ]
  },
  {
   "cell_type": "code",
   "execution_count": 30,
   "metadata": {},
   "outputs": [
    {
     "data": {
      "image/png": "[encoded data removed]",
      "text/plain": [
       "<Figure size 432x288 with 1 Axes>"
      ]
     },
     "metadata": {},
     "output_type": "display_data"
    },
    {
     "data": {
      "text/plain": [
       "<Figure size 432x288 with 0 Axes>"
      ]
     },
     "metadata": {},
     "output_type": "display_data"
    }
   ],
   "source": [
    "sns.countplot(x=Rural_data_only['v313'] , data=Rural_data_only, palette='hls')\n",
    "\n",
    "plt.show()\n",
    "plt.savefig('Contraceptive Use Distribution')"
   ]
  },
  {
   "cell_type": "code",
   "execution_count": 31,
   "metadata": {},
   "outputs": [
    {
     "data": {
      "text/plain": [
       "islam              54.761042\n",
       "other christian    35.515561\n",
       "catholic            8.720860\n",
       "other               0.531465\n",
       "traditionalist      0.471071\n",
       "Name: v130, dtype: float64"
      ]
     },
     "execution_count": 31,
     "metadata": {},
     "output_type": "execute_result"
    }
   ],
   "source": [
    "Rural_data_only['v130'].value_counts(normalize=True) * 100"
   ]
  },
  {
   "cell_type": "code",
   "execution_count": 32,
   "metadata": {},
   "outputs": [
    {
     "data": {
      "text/plain": [
       "north west       28.646777\n",
       "north east       23.251600\n",
       "north central    20.715062\n",
       "south south      13.210130\n",
       "south east        7.871321\n",
       "south west        6.305109\n",
       "Name: v024, dtype: float64"
      ]
     },
     "execution_count": 32,
     "metadata": {},
     "output_type": "execute_result"
    }
   ],
   "source": [
    "Rural_data_only['v024'].value_counts(normalize=True) * 100"
   ]
  },
  {
   "cell_type": "code",
   "execution_count": 33,
   "metadata": {},
   "outputs": [
    {
     "data": {
      "text/plain": [
       "no education    47.091034\n",
       "secondary       31.489310\n",
       "primary         16.253976\n",
       "higher           5.165680\n",
       "Name: v106, dtype: float64"
      ]
     },
     "execution_count": 33,
     "metadata": {},
     "output_type": "execute_result"
    }
   ],
   "source": [
    "Rural_data_only['v106'].value_counts(normalize=True) * 100"
   ]
  },
  {
   "cell_type": "code",
   "execution_count": 34,
   "metadata": {},
   "outputs": [
    {
     "data": {
      "text/plain": [
       "poorest    28.413254\n",
       "poorer     28.155574\n",
       "middle     22.269195\n",
       "richer     13.954987\n",
       "richest     7.206990\n",
       "Name: v190, dtype: float64"
      ]
     },
     "execution_count": 34,
     "metadata": {},
     "output_type": "execute_result"
    }
   ],
   "source": [
    "Rural_data_only['v190'].value_counts(normalize=True) * 100"
   ]
  },
  {
   "cell_type": "code",
   "execution_count": 35,
   "metadata": {},
   "outputs": [
    {
     "data": {
      "text/plain": [
       "0     24.576237\n",
       "2     11.313766\n",
       "1     11.156742\n",
       "3     10.178363\n",
       "4      9.771712\n",
       "5      8.608125\n",
       "6      7.392197\n",
       "7      5.805854\n",
       "8      4.175222\n",
       "9      2.874743\n",
       "10     2.005073\n",
       "11     1.143455\n",
       "12     0.603938\n",
       "13     0.269759\n",
       "14     0.068446\n",
       "15     0.036236\n",
       "16     0.016105\n",
       "17     0.004026\n",
       "Name: v201, dtype: float64"
      ]
     },
     "execution_count": 35,
     "metadata": {},
     "output_type": "execute_result"
    }
   ],
   "source": [
    "Rural_data_only['v201'].value_counts(normalize=True) * 100"
   ]
  },
  {
   "cell_type": "code",
   "execution_count": 36,
   "metadata": {},
   "outputs": [
    {
     "data": {
      "text/plain": [
       "no method             89.853847\n",
       "modern method          8.044450\n",
       "traditional method     1.739341\n",
       "folkloric method       0.362363\n",
       "Name: v313, dtype: float64"
      ]
     },
     "execution_count": 36,
     "metadata": {},
     "output_type": "execute_result"
    }
   ],
   "source": [
    "Rural_data_only['v313'].value_counts(normalize=True) * 100"
   ]
  },
  {
   "cell_type": "code",
   "execution_count": 37,
   "metadata": {},
   "outputs": [
    {
     "data": {
      "text/plain": [
       "active in last 4 weeks                                    61.976084\n",
       "not active in last 4 weeks - not postpartum abstinence    18.383863\n",
       "never had sex                                             13.238314\n",
       "not active in last 4 weeks - postpartum abstinence         6.401739\n",
       "Name: v536, dtype: float64"
      ]
     },
     "execution_count": 37,
     "metadata": {},
     "output_type": "execute_result"
    }
   ],
   "source": [
    "Rural_data_only['v536'].value_counts(normalize=True) * 100"
   ]
  },
  {
   "cell_type": "code",
   "execution_count": 38,
   "metadata": {},
   "outputs": [
    {
     "data": {
      "text/plain": [
       "15-19    20.320490\n",
       "25-29    17.389379\n",
       "20-24    17.014937\n",
       "30-34    13.789910\n",
       "35-39    12.485405\n",
       "40-44     9.803922\n",
       "45-49     9.195958\n",
       "Name: v013, dtype: float64"
      ]
     },
     "execution_count": 38,
     "metadata": {},
     "output_type": "execute_result"
    }
   ],
   "source": [
    "Rural_data_only['v013'].value_counts(normalize=True) * 100"
   ]
  },
  {
   "cell_type": "code",
   "execution_count": 39,
   "metadata": {},
   "outputs": [],
   "source": [
    "Contraceptive_Use_recode = {'v313': \n",
    "                            \n",
    "                            {\"no method\": 'Not using modern method', \n",
    "                             \"modern method\": 'Using modern method' , \n",
    "                             \"traditional method\": 'Not using modern method',  \n",
    "                             \"folkloric method\": 'Not using modern method'}\n",
    "                            }"
   ]
  },
  {
   "cell_type": "code",
   "execution_count": 40,
   "metadata": {},
   "outputs": [],
   "source": [
    "Rural_data_only.replace(Contraceptive_Use_recode, inplace=True)"
   ]
  },
  {
   "cell_type": "code",
   "execution_count": 41,
   "metadata": {},
   "outputs": [
    {
     "data": {
      "text/plain": [
       "Not using modern method    91.95555\n",
       "Using modern method         8.04445\n",
       "Name: v313, dtype: float64"
      ]
     },
     "execution_count": 41,
     "metadata": {},
     "output_type": "execute_result"
    }
   ],
   "source": [
    "Rural_data_only['v313'].value_counts(normalize=True) * 100"
   ]
  },
  {
   "cell_type": "code",
   "execution_count": 42,
   "metadata": {},
   "outputs": [
    {
     "data": {
      "text/plain": [
       "Not using modern method    22839\n",
       "Using modern method         1998\n",
       "Name: v313, dtype: int64"
      ]
     },
     "execution_count": 42,
     "metadata": {},
     "output_type": "execute_result"
    }
   ],
   "source": [
    "Rural_data_only['v313'].value_counts() "
   ]
  },
  {
   "cell_type": "code",
   "execution_count": 44,
   "metadata": {},
   "outputs": [],
   "source": [
    "Independent_recode_v130 =  {\"v130\":\n",
    "                            \n",
    "                            {\"other christian\": 'christians',  \n",
    "                             \"catholic\": 'christians',  \n",
    "                             \"other\": 'others',  \n",
    "                             \"traditionalist\": 'others',  \n",
    "                             \"islam\": 'muslim'}\n",
    "                           }                                "
   ]
  },
  {
   "cell_type": "code",
   "execution_count": 45,
   "metadata": {},
   "outputs": [],
   "source": [
    "Rural_data_only.replace(Independent_recode_v130, inplace=True)"
   ]
  },
  {
   "cell_type": "code",
   "execution_count": 46,
   "metadata": {},
   "outputs": [
    {
     "data": {
      "text/plain": [
       "muslim        54.761042\n",
       "christians    44.236421\n",
       "others         1.002537\n",
       "Name: v130, dtype: float64"
      ]
     },
     "execution_count": 46,
     "metadata": {},
     "output_type": "execute_result"
    }
   ],
   "source": [
    "Rural_data_only['v130'].value_counts(normalize=True) * 100"
   ]
  },
  {
   "cell_type": "code",
   "execution_count": 47,
   "metadata": {},
   "outputs": [
    {
     "data": {
      "text/plain": [
       "muslim        13601\n",
       "christians    10987\n",
       "others          249\n",
       "Name: v130, dtype: int64"
      ]
     },
     "execution_count": 47,
     "metadata": {},
     "output_type": "execute_result"
    }
   ],
   "source": [
    "Rural_data_only['v130'].value_counts()"
   ]
  },
  {
   "cell_type": "code",
   "execution_count": 34,
   "metadata": {},
   "outputs": [],
   "source": [
    "# The proportion of respondents that are non muslims or christians is so significantly minut that we may consider eliminate them from the analysis after bivariate data visualizationn. we may consider eliminating it from the analysis if the majority of those in that group are are non modern contraceptive users "
   ]
  },
  {
   "cell_type": "code",
   "execution_count": 48,
   "metadata": {},
   "outputs": [],
   "source": [
    "Independent_recode_v190 = {\n",
    "    \n",
    "                 \"v190\": {\"poorest\": 'poor', \n",
    "                          \"poorer\": 'poor', \n",
    "                          \"middle\": 'Average', \n",
    "                          \"richer\": 'rich', \n",
    "                          \"richest\": 'rich'}\n",
    "                          }                "
   ]
  },
  {
   "cell_type": "code",
   "execution_count": 49,
   "metadata": {},
   "outputs": [],
   "source": [
    "Rural_data_only.replace(Independent_recode_v190, inplace=True)"
   ]
  },
  {
   "cell_type": "code",
   "execution_count": 50,
   "metadata": {},
   "outputs": [
    {
     "data": {
      "text/plain": [
       "poor       56.568829\n",
       "Average    22.269195\n",
       "rich       21.161976\n",
       "Name: v190, dtype: float64"
      ]
     },
     "execution_count": 50,
     "metadata": {},
     "output_type": "execute_result"
    }
   ],
   "source": [
    "Rural_data_only['v190'].value_counts(normalize=True) * 100"
   ]
  },
  {
   "cell_type": "code",
   "execution_count": 51,
   "metadata": {},
   "outputs": [],
   "source": [
    "Independent_recode_v106 = {\n",
    "                           \n",
    "                  \"v106\": {\"secondary\": 'secondary/higher',\n",
    "                           \"higher\":'secondary/higher'}   \n",
    "                          }                                "
   ]
  },
  {
   "cell_type": "code",
   "execution_count": 52,
   "metadata": {},
   "outputs": [],
   "source": [
    "Rural_data_only.replace(Independent_recode_v106, inplace=True)"
   ]
  },
  {
   "cell_type": "code",
   "execution_count": 53,
   "metadata": {},
   "outputs": [
    {
     "data": {
      "text/plain": [
       "no education        47.091034\n",
       "secondary/higher    36.654991\n",
       "primary             16.253976\n",
       "Name: v106, dtype: float64"
      ]
     },
     "execution_count": 53,
     "metadata": {},
     "output_type": "execute_result"
    }
   ],
   "source": [
    "Rural_data_only['v106'].value_counts(normalize=True) * 100"
   ]
  },
  {
   "cell_type": "code",
   "execution_count": 54,
   "metadata": {},
   "outputs": [
    {
     "data": {
      "text/plain": [
       "no education        11696\n",
       "secondary/higher     9104\n",
       "primary              4037\n",
       "Name: v106, dtype: int64"
      ]
     },
     "execution_count": 54,
     "metadata": {},
     "output_type": "execute_result"
    }
   ],
   "source": [
    "Rural_data_only['v106'].value_counts() "
   ]
  },
  {
   "cell_type": "code",
   "execution_count": null,
   "metadata": {},
   "outputs": [],
   "source": []
  },
  {
   "cell_type": "code",
   "execution_count": 55,
   "metadata": {},
   "outputs": [],
   "source": [
    "   Independent_recode_v536 = { \n",
    "       \n",
    "                         \"v536\": {\"not active in last 4 weeks - postpartum abstinence\": 'not active in last 4 weeks', \n",
    "                                  \"not active in last 4 weeks - not postpartum abstinence\": 'not active in last 4 weeks'}\n",
    "                             }"
   ]
  },
  {
   "cell_type": "code",
   "execution_count": 56,
   "metadata": {},
   "outputs": [],
   "source": [
    "Rural_data_only.replace(Independent_recode_v536, inplace=True)"
   ]
  },
  {
   "cell_type": "code",
   "execution_count": 57,
   "metadata": {},
   "outputs": [
    {
     "data": {
      "text/plain": [
       "active in last 4 weeks        61.976084\n",
       "not active in last 4 weeks    24.785602\n",
       "never had sex                 13.238314\n",
       "Name: v536, dtype: float64"
      ]
     },
     "execution_count": 57,
     "metadata": {},
     "output_type": "execute_result"
    }
   ],
   "source": [
    "Rural_data_only['v536'].value_counts(normalize=True) * 100"
   ]
  },
  {
   "cell_type": "code",
   "execution_count": 58,
   "metadata": {},
   "outputs": [],
   "source": [
    "Independent_v201 = {\n",
    "                \"v201\": {0: '0',  1: '1-5',  2: '1-5',  3:'1-5',  \n",
    "                         4: '1-5', 5: '1-5', 6: '6', 7: '7+',  \n",
    "                         8: '7+',  9: '7+',  10: '7+',  11: '7+',  \n",
    "                         12: '7+',  13: '7+',  14: '7+',  15: '7+',  \n",
    "                         16: '7+', 17: '7+'}\n",
    "                    }"
   ]
  },
  {
   "cell_type": "code",
   "execution_count": 59,
   "metadata": {},
   "outputs": [],
   "source": [
    "Rural_data_only.replace(Independent_v201, inplace=True)"
   ]
  },
  {
   "cell_type": "code",
   "execution_count": 60,
   "metadata": {},
   "outputs": [
    {
     "data": {
      "text/plain": [
       "1-5    51.028707\n",
       "0      24.576237\n",
       "7+     17.002859\n",
       "6       7.392197\n",
       "Name: v201, dtype: float64"
      ]
     },
     "execution_count": 60,
     "metadata": {},
     "output_type": "execute_result"
    }
   ],
   "source": [
    "Rural_data_only['v201'].value_counts(normalize=True) * 100"
   ]
  },
  {
   "cell_type": "code",
   "execution_count": 61,
   "metadata": {},
   "outputs": [
    {
     "data": {
      "text/plain": [
       "1-5    12674\n",
       "0       6104\n",
       "7+      4223\n",
       "6       1836\n",
       "Name: v201, dtype: int64"
      ]
     },
     "execution_count": 61,
     "metadata": {},
     "output_type": "execute_result"
    }
   ],
   "source": [
    "Rural_data_only['v201'].value_counts() "
   ]
  },
  {
   "cell_type": "code",
   "execution_count": 62,
   "metadata": {
    "scrolled": false
   },
   "outputs": [
    {
     "data": {
      "image/png": "[encoded data removed]",
      "text/plain": [
       "<Figure size 432x288 with 1 Axes>"
      ]
     },
     "metadata": {},
     "output_type": "display_data"
    }
   ],
   "source": [
    "pd.crosstab(Rural_data_only.v106, Rural_data_only.v313).plot(kind='bar')\n",
    "plt.title('Modern Contraceptive use status by Education')\n",
    "plt.xlabel('Educational Status of Rural Respondents')\n",
    "plt.ylabel('Modern Contraceptive use distribution')\n",
    "plt.savefig('ModernContraceptiveByEducation')"
   ]
  },
  {
   "cell_type": "code",
   "execution_count": 63,
   "metadata": {},
   "outputs": [
    {
     "name": "stdout",
     "output_type": "stream",
     "text": [
      "The two-way table between marital status and modern contraceptive use status is: \n",
      " v313              Not using modern method  Using modern method\n",
      "v106                                                          \n",
      "no education                        11280                  416\n",
      "primary                              3600                  437\n",
      "secondary/higher                     7959                 1145\n"
     ]
    }
   ],
   "source": [
    "tab0=pd.crosstab(index=Rural_data_only.v106, columns=Rural_data_only.v313)\n",
    "print('The two-way table between marital status and modern contraceptive use status is: \\n' , tab0)"
   ]
  },
  {
   "cell_type": "code",
   "execution_count": 64,
   "metadata": {},
   "outputs": [
    {
     "name": "stdout",
     "output_type": "stream",
     "text": [
      "Chi-square statistic is 613.440,  p_value is 0.000\n"
     ]
    }
   ],
   "source": [
    "chi2, p, dof, expected=chi2_contingency(tab0.values)\n",
    "print('Chi-square statistic is %0.3f,  p_value is %0.3f' %(chi2,p))"
   ]
  },
  {
   "cell_type": "code",
   "execution_count": 65,
   "metadata": {},
   "outputs": [
    {
     "data": {
      "image/png": "[encoded data removed]",
      "text/plain": [
       "<Figure size 432x288 with 1 Axes>"
      ]
     },
     "metadata": {},
     "output_type": "display_data"
    }
   ],
   "source": [
    "pd.crosstab(Rural_data_only.v502, Rural_data_only.v313).plot(kind='bar')\n",
    "plt.title('Modern Contraceptive use status by Marital Status')\n",
    "plt.xlabel('Marital Status of Rural Respondents')\n",
    "plt.ylabel('Modern Contraceptive use distribution')\n",
    "plt.savefig('ModernContraceptiveByMaritalStatus')"
   ]
  },
  {
   "cell_type": "code",
   "execution_count": 66,
   "metadata": {
    "scrolled": true
   },
   "outputs": [
    {
     "name": "stdout",
     "output_type": "stream",
     "text": [
      "The two-way table between marital status and modern contraceptive use status is: \n",
      " v313                                  Not using modern method  \\\n",
      "v502                                                            \n",
      "never in union                                           4871   \n",
      "currently in union/living with a man                    16895   \n",
      "formerly in union/living with a man                      1073   \n",
      "\n",
      "v313                                  Using modern method  \n",
      "v502                                                       \n",
      "never in union                                        318  \n",
      "currently in union/living with a man                 1590  \n",
      "formerly in union/living with a man                    90  \n"
     ]
    }
   ],
   "source": [
    "tab1=pd.crosstab(index=Rural_data_only.v502, columns=Rural_data_only.v313)\n",
    "print('The two-way table between marital status and modern contraceptive use status is: \\n' , tab1)"
   ]
  },
  {
   "cell_type": "code",
   "execution_count": 67,
   "metadata": {},
   "outputs": [
    {
     "name": "stdout",
     "output_type": "stream",
     "text": [
      "Chi-square statistic is 33.657,  p_value is 0.000\n"
     ]
    }
   ],
   "source": [
    "chi2, p, dof, expected=chi2_contingency(tab1.values)\n",
    "print('Chi-square statistic is %0.3f,  p_value is %0.3f' %(chi2,p))"
   ]
  },
  {
   "cell_type": "code",
   "execution_count": 68,
   "metadata": {
    "scrolled": true
   },
   "outputs": [
    {
     "data": {
      "image/png": "[encoded data removed]",
      "text/plain": [
       "<Figure size 432x288 with 1 Axes>"
      ]
     },
     "metadata": {},
     "output_type": "display_data"
    }
   ],
   "source": [
    "pd.crosstab(Rural_data_only.v130, Rural_data_only.v313).plot(kind='bar')\n",
    "plt.title('Modern Contraceptive use status by Religion')\n",
    "plt.xlabel('Religion of Rural Respondents')\n",
    "plt.ylabel('Modern Contraceptive use distribution')\n",
    "plt.savefig('ModernContraceptiveByReligion')"
   ]
  },
  {
   "cell_type": "code",
   "execution_count": 69,
   "metadata": {
    "scrolled": false
   },
   "outputs": [
    {
     "name": "stdout",
     "output_type": "stream",
     "text": [
      "The two-way table between religion and modern contraceptive use status is: \n",
      " v313        Not using modern method  Using modern method\n",
      "v130                                                    \n",
      "christians                     9503                 1484\n",
      "muslim                        13094                  507\n",
      "others                          242                    7\n"
     ]
    }
   ],
   "source": [
    "tab2=pd.crosstab(index=Rural_data_only.v130, columns=Rural_data_only.v313)\n",
    "print('The two-way table between religion and modern contraceptive use status is: \\n' , tab2)"
   ]
  },
  {
   "cell_type": "code",
   "execution_count": 70,
   "metadata": {},
   "outputs": [
    {
     "name": "stdout",
     "output_type": "stream",
     "text": [
      "Chi-square statistic is 795.017,  p_value is 0.000\n"
     ]
    }
   ],
   "source": [
    "chi2, p, dof, expected=chi2_contingency(tab2.values)\n",
    "print('Chi-square statistic is %0.3f,  p_value is %0.3f' %(chi2,p))"
   ]
  },
  {
   "cell_type": "code",
   "execution_count": 71,
   "metadata": {},
   "outputs": [
    {
     "data": {
      "image/png": "[encoded data removed]",
      "text/plain": [
       "<Figure size 432x288 with 1 Axes>"
      ]
     },
     "metadata": {},
     "output_type": "display_data"
    }
   ],
   "source": [
    "pd.crosstab(Rural_data_only.v190, Rural_data_only.v313).plot(kind='bar')\n",
    "plt.title('Modern Contraceptive use status by Wealth Index')\n",
    "plt.xlabel('Wealth index of Rural Respondents')\n",
    "plt.ylabel('Modern Contraceptive use distribution')\n",
    "plt.savefig('ModernContraceptiveByWealthIndex')"
   ]
  },
  {
   "cell_type": "code",
   "execution_count": 72,
   "metadata": {
    "scrolled": true
   },
   "outputs": [
    {
     "name": "stdout",
     "output_type": "stream",
     "text": [
      "The two-way table between wealth index and modern contraceptive use status is: \n",
      " v313     Not using modern method  Using modern method\n",
      "v190                                                 \n",
      "Average                     4988                  543\n",
      "poor                       13303                  747\n",
      "rich                        4548                  708\n"
     ]
    }
   ],
   "source": [
    "tab3=pd.crosstab(index=Rural_data_only.v190, columns=Rural_data_only.v313)\n",
    "print('The two-way table between wealth index and modern contraceptive use status is: \\n' , tab3)"
   ]
  },
  {
   "cell_type": "code",
   "execution_count": 73,
   "metadata": {},
   "outputs": [
    {
     "name": "stdout",
     "output_type": "stream",
     "text": [
      "Chi-square statistic is 374.002,  p_value is 0.000\n"
     ]
    }
   ],
   "source": [
    "chi2, p, dof, expected=chi2_contingency(tab3.values)\n",
    "print('Chi-square statistic is %0.3f,  p_value is %0.3f' %(chi2,p))"
   ]
  },
  {
   "cell_type": "code",
   "execution_count": 74,
   "metadata": {},
   "outputs": [
    {
     "data": {
      "image/png": "[encoded data removed]",
      "text/plain": [
       "<Figure size 432x288 with 1 Axes>"
      ]
     },
     "metadata": {},
     "output_type": "display_data"
    }
   ],
   "source": [
    "pd.crosstab(Rural_data_only.v714, Rural_data_only.v313).plot(kind='bar')\n",
    "plt.title('Modern Contraceptive use status by Working Status')\n",
    "plt.xlabel('Working Status of Rural Respondents')\n",
    "plt.ylabel('Modern Contraceptive use distribution')\n",
    "plt.savefig('ModernContraceptiveByWorkingStatus')"
   ]
  },
  {
   "cell_type": "code",
   "execution_count": 75,
   "metadata": {},
   "outputs": [
    {
     "name": "stdout",
     "output_type": "stream",
     "text": [
      "The two-way table between working status and modern contraceptive use status is: \n",
      " v313  Not using modern method  Using modern method\n",
      "v714                                              \n",
      "no                       8585                  444\n",
      "yes                     14254                 1554\n"
     ]
    }
   ],
   "source": [
    "tab4=pd.crosstab(index=Rural_data_only.v714, columns=Rural_data_only.v313)\n",
    "print('The two-way table between working status and modern contraceptive use status is: \\n' , tab4)"
   ]
  },
  {
   "cell_type": "code",
   "execution_count": 76,
   "metadata": {},
   "outputs": [
    {
     "name": "stdout",
     "output_type": "stream",
     "text": [
      "Chi-square statistic is 186.850,  p_value is 0.000\n"
     ]
    }
   ],
   "source": [
    "chi2, p, dof, expected=chi2_contingency(tab4.values)\n",
    "print('Chi-square statistic is %0.3f,  p_value is %0.3f' %(chi2,p))"
   ]
  },
  {
   "cell_type": "code",
   "execution_count": 77,
   "metadata": {},
   "outputs": [
    {
     "data": {
      "image/png": "[encoded data removed]",
      "text/plain": [
       "<Figure size 432x288 with 1 Axes>"
      ]
     },
     "metadata": {},
     "output_type": "display_data"
    }
   ],
   "source": [
    "pd.crosstab(Rural_data_only.v013, Rural_data_only.v313).plot(kind='bar')\n",
    "plt.title('Modern Contraceptive use status by Age')\n",
    "plt.xlabel('Age distribution of Rural Respondents')\n",
    "plt.ylabel('Modern Contraceptive use distribution')\n",
    "plt.savefig('ModernContraceptiveByAge')"
   ]
  },
  {
   "cell_type": "code",
   "execution_count": 78,
   "metadata": {},
   "outputs": [
    {
     "name": "stdout",
     "output_type": "stream",
     "text": [
      "The two-way table between working status and modern contraceptive use status is: \n",
      " v313   Not using modern method  Using modern method\n",
      "v013                                               \n",
      "15-19                     4931                  116\n",
      "20-24                     3885                  341\n",
      "25-29                     3919                  400\n",
      "30-34                     3081                  344\n",
      "35-39                     2714                  387\n",
      "40-44                     2174                  261\n",
      "45-49                     2135                  149\n"
     ]
    }
   ],
   "source": [
    "tab5=pd.crosstab(index=Rural_data_only.v013, columns=Rural_data_only.v313)\n",
    "print('The two-way table between working status and modern contraceptive use status is: \\n' , tab5)"
   ]
  },
  {
   "cell_type": "code",
   "execution_count": 79,
   "metadata": {},
   "outputs": [
    {
     "name": "stdout",
     "output_type": "stream",
     "text": [
      "Chi-square statistic is 365.577,  p_value is 0.000\n"
     ]
    }
   ],
   "source": [
    "chi2, p, dof, expected=chi2_contingency(tab5.values)\n",
    "print('Chi-square statistic is %0.3f,  p_value is %0.3f' %(chi2,p))"
   ]
  },
  {
   "cell_type": "code",
   "execution_count": 80,
   "metadata": {},
   "outputs": [
    {
     "data": {
      "image/png": "[encoded data removed]",
      "text/plain": [
       "<Figure size 432x288 with 1 Axes>"
      ]
     },
     "metadata": {},
     "output_type": "display_data"
    }
   ],
   "source": [
    "pd.crosstab(Rural_data_only.v201, Rural_data_only.v313).plot(kind='bar')\n",
    "plt.title('Modern Contraceptive use status by No of children ever born')\n",
    "plt.xlabel('Number of children ever born by rural respondents')\n",
    "plt.ylabel('Modern Contraceptive use distribution')\n",
    "plt.savefig('ModernContraceptiveByMaritalStatus')"
   ]
  },
  {
   "cell_type": "code",
   "execution_count": 81,
   "metadata": {},
   "outputs": [
    {
     "name": "stdout",
     "output_type": "stream",
     "text": [
      "The two-way table between working status and modern contraceptive use status is: \n",
      " v313  Not using modern method  Using modern method\n",
      "v201                                              \n",
      "0                        5842                  262\n",
      "1-5                     11454                 1220\n",
      "6                        1640                  196\n",
      "7+                       3903                  320\n"
     ]
    }
   ],
   "source": [
    "tab6=pd.crosstab(index=Rural_data_only.v201, columns=Rural_data_only.v313)\n",
    "print('The two-way table between working status and modern contraceptive use status is: \\n' , tab6)"
   ]
  },
  {
   "cell_type": "code",
   "execution_count": 82,
   "metadata": {},
   "outputs": [
    {
     "name": "stdout",
     "output_type": "stream",
     "text": [
      "Chi-square statistic is 177.454,  p_value is 0.000\n"
     ]
    }
   ],
   "source": [
    "chi2, p, dof, expected=chi2_contingency(tab6.values)\n",
    "print('Chi-square statistic is %0.3f,  p_value is %0.3f' %(chi2,p))"
   ]
  },
  {
   "cell_type": "code",
   "execution_count": null,
   "metadata": {},
   "outputs": [],
   "source": [
    "# List of variables after feature engineering are:\n",
    "# 1.v024 *\n",
    "# 3.v502  *\n",
    "# 4.v106 *\n",
    "# 5.v130 *\n",
    "# 6.v190 *\n",
    "# 7.v313 *\n",
    "# 8.v714 *\n",
    " //for stratifying the sample into rural-urban, and dropping the urban sample from the analysis \n",
    "# 10.v013 *\n",
    "# 11.v201 *\n",
    "# 12.v536 * \n",
    "\n",
    "\n",
    "\n"
   ]
  },
  {
   "cell_type": "code",
   "execution_count": 83,
   "metadata": {},
   "outputs": [
    {
     "data": {
      "image/png": "[encoded data removed]",
      "text/plain": [
       "<Figure size 432x288 with 1 Axes>"
      ]
     },
     "metadata": {},
     "output_type": "display_data"
    }
   ],
   "source": [
    "pd.crosstab(Rural_data_only.v536, Rural_data_only.v313).plot(kind='bar')\n",
    "plt.title('Modern Contraceptive use by sexual activeness')\n",
    "plt.xlabel('Sexual activeness by rural respondents')\n",
    "plt.ylabel('Modern Contraceptive use distribution')\n",
    "plt.savefig('ModernContraceptive Use by sexual activeness')"
   ]
  },
  {
   "cell_type": "code",
   "execution_count": 84,
   "metadata": {},
   "outputs": [
    {
     "name": "stdout",
     "output_type": "stream",
     "text": [
      "The two-way table between working status and modern contraceptive use status is: \n",
      " v313                        Not using modern method  Using modern method\n",
      "v536                                                                    \n",
      "active in last 4 weeks                        13877                 1516\n",
      "never had sex                                  3286                    2\n",
      "not active in last 4 weeks                     5676                  480\n"
     ]
    }
   ],
   "source": [
    "tab7=pd.crosstab(index=Rural_data_only.v536, columns=Rural_data_only.v313)\n",
    "print('The two-way table between working status and modern contraceptive use status is: \\n' , tab7)"
   ]
  },
  {
   "cell_type": "code",
   "execution_count": 85,
   "metadata": {},
   "outputs": [
    {
     "name": "stdout",
     "output_type": "stream",
     "text": [
      "Chi-square statistic is 351.550,  p_value is 0.000\n"
     ]
    }
   ],
   "source": [
    "chi2, p, dof, expected=chi2_contingency(tab7.values)\n",
    "print('Chi-square statistic is %0.3f,  p_value is %0.3f' %(chi2,p))"
   ]
  },
  {
   "cell_type": "code",
   "execution_count": 86,
   "metadata": {},
   "outputs": [
    {
     "data": {
      "image/png": "[encoded data removed]",
      "text/plain": [
       "<Figure size 432x288 with 1 Axes>"
      ]
     },
     "metadata": {},
     "output_type": "display_data"
    }
   ],
   "source": [
    "pd.crosstab(Rural_data_only.v024, Rural_data_only.v313).plot(kind='bar')\n",
    "plt.title('Modern Contraceptive use by region of residence')\n",
    "plt.xlabel('Region of residence of rural respondents')\n",
    "plt.ylabel('Modern Contraceptive use distribution')\n",
    "plt.savefig('ModernContraceptive Use by region')"
   ]
  },
  {
   "cell_type": "code",
   "execution_count": 87,
   "metadata": {},
   "outputs": [
    {
     "name": "stdout",
     "output_type": "stream",
     "text": [
      "The two-way table between working status and modern contraceptive use status is: \n",
      " v313           Not using modern method  Using modern method\n",
      "v024                                                       \n",
      "north central                     4633                  512\n",
      "north east                        5356                  419\n",
      "north west                        6877                  238\n",
      "south east                        1772                  183\n",
      "south south                       2864                  417\n",
      "south west                        1337                  229\n"
     ]
    }
   ],
   "source": [
    "tab8=pd.crosstab(index=Rural_data_only.v024, columns=Rural_data_only.v313)\n",
    "print('The two-way table between working status and modern contraceptive use status is: \\n' , tab8)"
   ]
  },
  {
   "cell_type": "code",
   "execution_count": 88,
   "metadata": {},
   "outputs": [
    {
     "name": "stdout",
     "output_type": "stream",
     "text": [
      "Chi-square statistic is 435.299,  p_value is 0.000\n"
     ]
    }
   ],
   "source": [
    "chi2, p, dof, expected=chi2_contingency(tab8.values)\n",
    "print('Chi-square statistic is %0.3f,  p_value is %0.3f' %(chi2,p))"
   ]
  },
  {
   "cell_type": "code",
   "execution_count": 75,
   "metadata": {},
   "outputs": [],
   "source": [
    "# As part of data prepreprocessing, our next step is to check for missing values for each of the variable (i.e each column) "
   ]
  },
  {
   "cell_type": "code",
   "execution_count": 89,
   "metadata": {},
   "outputs": [
    {
     "data": {
      "text/plain": [
       "v024    0\n",
       "v130    0\n",
       "v502    0\n",
       "v106    0\n",
       "v190    0\n",
       "v201    0\n",
       "v536    0\n",
       "v013    0\n",
       "v714    0\n",
       "v313    0\n",
       "dtype: int64"
      ]
     },
     "execution_count": 89,
     "metadata": {},
     "output_type": "execute_result"
    }
   ],
   "source": [
    "Rural_data_only.isnull().sum() #count number of missing values for each of the features or variables"
   ]
  },
  {
   "cell_type": "code",
   "execution_count": null,
   "metadata": {},
   "outputs": [],
   "source": [
    "# As can be seen, none of the features has a missing cases, so we will not do anything else based on our missing"
   ]
  },
  {
   "cell_type": "code",
   "execution_count": null,
   "metadata": {},
   "outputs": [],
   "source": [
    "# Next: We want to dummy code our features since they are all categorical, hence not in numerical form. "
   ]
  },
  {
   "cell_type": "code",
   "execution_count": 424,
   "metadata": {
    "scrolled": false
   },
   "outputs": [
    {
     "data": {
      "text/plain": [
       "array(['v024', 'v130', 'v502', 'v106', 'v190', 'v201', 'v536', 'v013',\n",
       "       'v714', 'v313', 'v024_north central', 'v024_north east',\n",
       "       'v024_north west', 'v024_south east', 'v024_south south',\n",
       "       'v024_south west', 'v130_christians', 'v130_muslim', 'v130_others',\n",
       "       'v502_never in union', 'v502_currently in union/living with a man',\n",
       "       'v502_formerly in union/living with a man', 'v106_no education',\n",
       "       'v106_primary', 'v106_secondary/higher', 'v190_Average',\n",
       "       'v190_poor', 'v190_rich', 'v201_0', 'v201_1-5', 'v201_6',\n",
       "       'v201_7+', 'v536_active in last 4 weeks', 'v536_never had sex',\n",
       "       'v536_not active in last 4 weeks', 'v013_15-19', 'v013_20-24',\n",
       "       'v013_25-29', 'v013_30-34', 'v013_35-39', 'v013_40-44',\n",
       "       'v013_45-49', 'v714_no', 'v714_yes',\n",
       "       'v313_Not using modern method', 'v313_Using modern method'],\n",
       "      dtype=object)"
      ]
     },
     "execution_count": 424,
     "metadata": {},
     "output_type": "execute_result"
    }
   ],
   "source": [
    "Create_dummies=pd.get_dummies(Rural_data_only)\n",
    "Concat_Rural_data_only=pd.concat([Rural_data_only, Create_dummies], sort=False)\n",
    "Concat_Rural_data_only.columns.values"
   ]
  },
  {
   "cell_type": "code",
   "execution_count": 425,
   "metadata": {
    "scrolled": true
   },
   "outputs": [
    {
     "data": {
      "text/plain": [
       "array(['v024_north central', 'v024_north east', 'v024_north west',\n",
       "       'v024_south east', 'v024_south south', 'v024_south west',\n",
       "       'v130_christians', 'v130_muslim', 'v130_others',\n",
       "       'v502_never in union', 'v502_currently in union/living with a man',\n",
       "       'v502_formerly in union/living with a man', 'v106_no education',\n",
       "       'v106_primary', 'v106_secondary/higher', 'v190_Average',\n",
       "       'v190_poor', 'v190_rich', 'v201_0', 'v201_1-5', 'v201_6',\n",
       "       'v201_7+', 'v536_active in last 4 weeks', 'v536_never had sex',\n",
       "       'v536_not active in last 4 weeks', 'v013_15-19', 'v013_20-24',\n",
       "       'v013_25-29', 'v013_30-34', 'v013_35-39', 'v013_40-44',\n",
       "       'v013_45-49', 'v714_no', 'v714_yes', 'v313_Using modern method'],\n",
       "      dtype=object)"
      ]
     },
     "execution_count": 425,
     "metadata": {},
     "output_type": "execute_result"
    }
   ],
   "source": [
    "Concat_Rural_data_only=Concat_Rural_data_only.drop(['v130', 'v502', 'v024', 'v106', 'v190', 'v201', 'v536', \n",
    "                                                    'v013', 'v714', 'v313', 'v313_Not using modern method'], axis=1)\n",
    "Concat_Rural_data_only.fillna\n",
    "Concat_Rural_data_only = Concat_Rural_data_only.dropna()\n",
    "Concat_Rural_data_only.dtypes\n",
    "Concat_Rural_data_only=Concat_Rural_data_only.astype(int)\n",
    "Concat_Rural_data_only.dtypes\n",
    "Concat_Rural_data_only.columns.values"
   ]
  },
  {
   "cell_type": "code",
   "execution_count": 426,
   "metadata": {},
   "outputs": [],
   "source": [
    "X=Concat_Rural_data_only.drop('v313_Using modern method',axis=1)\n",
    "y=Concat_Rural_data_only['v313_Using modern method']\n",
    "y=y.to_frame()"
   ]
  },
  {
   "cell_type": "code",
   "execution_count": 427,
   "metadata": {
    "scrolled": true
   },
   "outputs": [
    {
     "name": "stdout",
     "output_type": "stream",
     "text": [
      "length of oversampled data is  32034\n",
      "Number of non modern contraceptive users in oversampled data 16017\n",
      "Number of modern contraceptive users in the oversampled data 16017\n",
      "Proportion of non modern contraceptive users data in oversampled data is  0.5\n",
      "Proportion of modern contraceptive users data in oversampled data is  0.5\n"
     ]
    }
   ],
   "source": [
    "os = SMOTE(random_state=0, ratio='auto')\n",
    "X_train, X_test, y_train, y_test = train_test_split(X, y, test_size=0.3, random_state=0)\n",
    "columns = X_train.columns\n",
    "X_train.columns.values\n",
    "y_train.columns.values\n",
    "os_data_X,os_data_y=os.fit_sample(X_train,y_train.values.ravel())\n",
    "os_data_X = pd.DataFrame(data=os_data_X,columns=columns )\n",
    "os_data_y= pd.DataFrame(data=os_data_y,columns=['y'])\n",
    "print(\"length of oversampled data is \",len(os_data_X))\n",
    "print(\"Number of non modern contraceptive users in oversampled data\",len(os_data_y[os_data_y['y']==0]))\n",
    "print(\"Number of modern contraceptive users in the oversampled data\",len(os_data_y[os_data_y['y']==1]))\n",
    "print(\"Proportion of non modern contraceptive users data in oversampled data is \",len(os_data_y[os_data_y['y']==0])/len(os_data_X))\n",
    "print(\"Proportion of modern contraceptive users data in oversampled data is \",len(os_data_y[os_data_y['y']==1])/len(os_data_X))"
   ]
  },
  {
   "cell_type": "code",
   "execution_count": 428,
   "metadata": {},
   "outputs": [
    {
     "name": "stdout",
     "output_type": "stream",
     "text": [
      "[False False False False False False False False False False False False\n",
      "  True  True  True  True  True  True  True  True  True  True False  True\n",
      " False  True  True  True  True  True  True  True  True  True]\n",
      "[ 6  7  2  3  5  4 12 11 10 15 14 13  1  1  1  1  1  1  1  1  1  1  9  1\n",
      "  8  1  1  1  1  1  1  1  1  1]\n"
     ]
    },
    {
     "data": {
      "text/plain": [
       "array(['v024_north central', 'v024_north east', 'v024_north west',\n",
       "       'v024_south east', 'v024_south south', 'v024_south west',\n",
       "       'v130_christians', 'v130_muslim', 'v130_others',\n",
       "       'v502_never in union', 'v502_currently in union/living with a man',\n",
       "       'v502_formerly in union/living with a man', 'v106_no education',\n",
       "       'v106_primary', 'v106_secondary/higher', 'v190_Average',\n",
       "       'v190_poor', 'v190_rich', 'v201_0', 'v201_1-5', 'v201_6',\n",
       "       'v201_7+', 'v536_active in last 4 weeks', 'v536_never had sex',\n",
       "       'v536_not active in last 4 weeks', 'v013_15-19', 'v013_20-24',\n",
       "       'v013_25-29', 'v013_30-34', 'v013_35-39', 'v013_40-44',\n",
       "       'v013_45-49', 'v714_no', 'v714_yes'], dtype=object)"
      ]
     },
     "execution_count": 428,
     "metadata": {},
     "output_type": "execute_result"
    }
   ],
   "source": [
    "from sklearn.feature_selection import RFE\n",
    "from sklearn.linear_model import LogisticRegression\n",
    "logreg = LogisticRegression(solver='lbfgs', max_iter=1000, class_weight='balanced')\n",
    "rfe = RFE(logreg, 20)\n",
    "rfe = rfe.fit(os_data_X, os_data_y.values.ravel())\n",
    "print(rfe.support_)\n",
    "print(rfe.ranking_)\n",
    "X.columns.values"
   ]
  },
  {
   "cell_type": "code",
   "execution_count": 429,
   "metadata": {
    "scrolled": true
   },
   "outputs": [
    {
     "name": "stdout",
     "output_type": "stream",
     "text": [
      "column_no: 0 v024_north central (False, 6)\n",
      "column_no: 1 v024_north east (False, 7)\n",
      "column_no: 2 v024_north west (False, 2)\n",
      "column_no: 3 v024_south east (False, 3)\n",
      "column_no: 4 v024_south south (False, 5)\n",
      "column_no: 5 v024_south west (False, 4)\n",
      "column_no: 6 v130_christians (False, 12)\n",
      "column_no: 7 v130_muslim (False, 11)\n",
      "column_no: 8 v130_others (False, 10)\n",
      "column_no: 9 v502_never in union (False, 15)\n",
      "column_no: 10 v502_currently in union/living with a man (False, 14)\n",
      "column_no: 11 v502_formerly in union/living with a man (False, 13)\n",
      "column_no: 12 v106_no education (True, 1)\n",
      "column_no: 13 v106_primary (True, 1)\n",
      "column_no: 14 v106_secondary/higher (True, 1)\n",
      "column_no: 15 v190_Average (True, 1)\n",
      "column_no: 16 v190_poor (True, 1)\n",
      "column_no: 17 v190_rich (True, 1)\n",
      "column_no: 18 v201_0 (True, 1)\n",
      "column_no: 19 v201_1-5 (True, 1)\n",
      "column_no: 20 v201_6 (True, 1)\n",
      "column_no: 21 v201_7+ (True, 1)\n",
      "column_no: 22 v536_active in last 4 weeks (False, 9)\n",
      "column_no: 23 v536_never had sex (True, 1)\n",
      "column_no: 24 v536_not active in last 4 weeks (False, 8)\n",
      "column_no: 25 v013_15-19 (True, 1)\n",
      "column_no: 26 v013_20-24 (True, 1)\n",
      "column_no: 27 v013_25-29 (True, 1)\n",
      "column_no: 28 v013_30-34 (True, 1)\n",
      "column_no: 29 v013_35-39 (True, 1)\n",
      "column_no: 30 v013_40-44 (True, 1)\n",
      "column_no: 31 v013_45-49 (True, 1)\n",
      "column_no: 32 v714_no (True, 1)\n",
      "column_no: 33 v714_yes (True, 1)\n"
     ]
    }
   ],
   "source": [
    "# summarize all features\n",
    "for i in range(X.shape[1]):\n",
    "    print('column_no:',i,X.columns[i],  (rfe.support_[i], rfe.ranking_[i]))"
   ]
  },
  {
   "cell_type": "code",
   "execution_count": 430,
   "metadata": {},
   "outputs": [],
   "source": [
    "X=X.drop(['v024_north central', 'v024_north east', 'v024_north west','v024_south east', 'v024_south south', 'v024_south west', 'v130_christians', 'v130_muslim', 'v130_others','v502_never in union', 'v502_currently in union/living with a man','v502_formerly in union/living with a man','v536_active in last 4 weeks', 'v536_not active in last 4 weeks'], axis=1)"
   ]
  },
  {
   "cell_type": "code",
   "execution_count": 431,
   "metadata": {},
   "outputs": [],
   "source": [
    "X=X.columns\n",
    "X=os_data_X[X]\n",
    "y=os_data_y['y']"
   ]
  },
  {
   "cell_type": "code",
   "execution_count": 432,
   "metadata": {
    "scrolled": false
   },
   "outputs": [
    {
     "name": "stdout",
     "output_type": "stream",
     "text": [
      "Optimization terminated successfully.\n",
      "         Current function value: 0.542335\n",
      "         Iterations 12\n",
      "                            Results: Logit\n",
      "======================================================================\n",
      "Model:                 Logit             Pseudo R-squared:  0.218     \n",
      "Dependent Variable:    y                 AIC:               34786.3187\n",
      "Date:                  2020-07-06 00:18  BIC:               34953.8098\n",
      "No. Observations:      32034             Log-Likelihood:    -17373.   \n",
      "Df Model:              19                LL-Null:           -22204.   \n",
      "Df Residuals:          32014             LLR p-value:       0.0000    \n",
      "Converged:             1.0000            Scale:             1.0000    \n",
      "No. Iterations:        12.0000                                        \n",
      "----------------------------------------------------------------------\n",
      "                       Coef.  Std.Err.    z     P>|z|   [0.025  0.975]\n",
      "----------------------------------------------------------------------\n",
      "v106_no education     -1.0759   0.0579 -18.5857 0.0000 -1.1894 -0.9624\n",
      "v106_primary          -0.0218   0.0587  -0.3716 0.7102 -0.1370  0.0933\n",
      "v106_secondary/higher  0.5385   0.0565   9.5286 0.0000  0.4277  0.6492\n",
      "v190_Average          -0.4116   0.0565  -7.2867 0.0000 -0.5223 -0.3009\n",
      "v190_poor             -0.4748   0.0546  -8.7004 0.0000 -0.5817 -0.3678\n",
      "v190_rich             -0.2003   0.0566  -3.5360 0.0004 -0.3113 -0.0893\n",
      "v201_0                 0.0079   0.0727   0.1093 0.9129 -0.1346  0.1505\n",
      "v201_1-5               0.1919   0.0587   3.2683 0.0011  0.0768  0.3070\n",
      "v201_6                 0.0761   0.0724   1.0512 0.2932 -0.0658  0.2180\n",
      "v201_7+                0.4080   0.0649   6.2908 0.0000  0.2809  0.5351\n",
      "v536_never had sex    -7.3633   1.0013  -7.3539 0.0000 -9.3257 -5.4008\n",
      "v013_15-19            -2.1986   0.0759 -28.9755 0.0000 -2.3473 -2.0499\n",
      "v013_20-24            -1.5017   0.0579 -25.9354 0.0000 -1.6151 -1.3882\n",
      "v013_25-29            -1.5081   0.0561 -26.9012 0.0000 -1.6179 -1.3982\n",
      "v013_30-34            -1.5662   0.0575 -27.2460 0.0000 -1.6788 -1.4535\n",
      "v013_35-39            -1.2037   0.0570 -21.1286 0.0000 -1.3154 -1.0921\n",
      "v013_40-44            -1.3970   0.0616 -22.6766 0.0000 -1.5177 -1.2762\n",
      "v013_45-49            -2.2371   0.0683 -32.7495 0.0000 -2.3710 -2.1032\n",
      "v714_no                1.5636   0.0751  20.8230 0.0000  1.4164  1.7107\n",
      "v714_yes               1.9634   0.0712  27.5772 0.0000  1.8238  2.1029\n",
      "======================================================================\n",
      "\n"
     ]
    }
   ],
   "source": [
    "import statsmodels.api as sm\n",
    "logit_model=sm.Logit(y,X)\n",
    "result=logit_model.fit()\n",
    "print(result.summary2())"
   ]
  },
  {
   "cell_type": "code",
   "execution_count": 433,
   "metadata": {},
   "outputs": [
    {
     "name": "stdout",
     "output_type": "stream",
     "text": [
      "Accuracy of logistic regression classifier on test set: 0.79\n"
     ]
    }
   ],
   "source": [
    "from sklearn.linear_model import LogisticRegression\n",
    "from sklearn import metrics\n",
    "X_train, X_test, y_train, y_test = train_test_split(X, y, test_size=0.3, random_state=0)\n",
    "logreg = LogisticRegression(solver='lbfgs', max_iter=1000, class_weight='balanced')\n",
    "logreg.fit(X_train, y_train)\n",
    "y_pred = logreg.predict(X_test)\n",
    "print('Accuracy of logistic regression classifier on test set: {:.2f}'.format(logreg.score(X_test, y_test)))"
   ]
  },
  {
   "cell_type": "code",
   "execution_count": 434,
   "metadata": {},
   "outputs": [],
   "source": [
    "X=X.drop(['v106_primary','v201_0', 'v201_6'], axis=1)"
   ]
  },
  {
   "cell_type": "code",
   "execution_count": 435,
   "metadata": {},
   "outputs": [
    {
     "name": "stdout",
     "output_type": "stream",
     "text": [
      "Optimization terminated successfully.\n",
      "         Current function value: 0.542357\n",
      "         Iterations 12\n",
      "                            Results: Logit\n",
      "======================================================================\n",
      "Model:                 Logit             Pseudo R-squared:  0.218     \n",
      "Dependent Variable:    y                 AIC:               34781.7602\n",
      "Date:                  2020-07-06 00:18  BIC:               34924.1276\n",
      "No. Observations:      32034             Log-Likelihood:    -17374.   \n",
      "Df Model:              16                LL-Null:           -22204.   \n",
      "Df Residuals:          32017             LLR p-value:       0.0000    \n",
      "Converged:             1.0000            Scale:             1.0000    \n",
      "No. Iterations:        12.0000                                        \n",
      "----------------------------------------------------------------------\n",
      "                       Coef.  Std.Err.    z     P>|z|   [0.025  0.975]\n",
      "----------------------------------------------------------------------\n",
      "v106_no education     -1.0584   0.0366 -28.9165 0.0000 -1.1302 -0.9867\n",
      "v106_secondary/higher  0.5513   0.0353  15.6346 0.0000  0.4822  0.6204\n",
      "v190_Average          -0.4057   0.0547  -7.4229 0.0000 -0.5129 -0.2986\n",
      "v190_poor             -0.4689   0.0526  -8.9060 0.0000 -0.5720 -0.3657\n",
      "v190_rich             -0.1971   0.0549  -3.5882 0.0003 -0.3048 -0.0895\n",
      "v201_1-5               0.1634   0.0327   4.9952 0.0000  0.0993  0.2275\n",
      "v201_7+                0.3726   0.0463   8.0388 0.0000  0.2817  0.4634\n",
      "v536_never had sex    -7.3716   1.0012  -7.3629 0.0000 -9.3339 -5.4093\n",
      "v013_15-19            -2.2115   0.0710 -31.1455 0.0000 -2.3507 -2.0723\n",
      "v013_20-24            -1.5064   0.0559 -26.9684 0.0000 -1.6159 -1.3969\n",
      "v013_25-29            -1.5077   0.0553 -27.2708 0.0000 -1.6160 -1.3993\n",
      "v013_30-34            -1.5618   0.0569 -27.4509 0.0000 -1.6733 -1.4503\n",
      "v013_35-39            -1.1977   0.0563 -21.2822 0.0000 -1.3080 -1.0874\n",
      "v013_40-44            -1.3903   0.0609 -22.8465 0.0000 -1.5096 -1.2710\n",
      "v013_45-49            -2.2303   0.0675 -33.0577 0.0000 -2.3625 -2.0980\n",
      "v714_no                1.5717   0.0659  23.8472 0.0000  1.4425  1.7009\n",
      "v714_yes               1.9710   0.0616  31.9840 0.0000  1.8502  2.0917\n",
      "======================================================================\n",
      "\n"
     ]
    }
   ],
   "source": [
    "import statsmodels.api as sm\n",
    "logit_model=sm.Logit(y,X)\n",
    "result=logit_model.fit()\n",
    "print(result.summary2())"
   ]
  },
  {
   "cell_type": "code",
   "execution_count": 436,
   "metadata": {},
   "outputs": [
    {
     "name": "stdout",
     "output_type": "stream",
     "text": [
      "Accuracy of logistic regression classifier on test set: 0.77\n"
     ]
    }
   ],
   "source": [
    "from sklearn.linear_model import LogisticRegression\n",
    "from sklearn import metrics\n",
    "X_train, X_test, y_train, y_test = train_test_split(X, y, test_size=0.3, random_state=0)\n",
    "logreg = LogisticRegression(solver='lbfgs', max_iter=1000, class_weight='balanced')\n",
    "logreg.fit(X_train, y_train)\n",
    "y_pred = logreg.predict(X_test)\n",
    "print('Accuracy of logistic regression classifier on test set: {:.2f}'.format(logreg.score(X_test, y_test)))"
   ]
  },
  {
   "cell_type": "code",
   "execution_count": 437,
   "metadata": {},
   "outputs": [
    {
     "name": "stdout",
     "output_type": "stream",
     "text": [
      "[[3425 1330]\n",
      " [ 908 3948]]\n"
     ]
    }
   ],
   "source": [
    "from sklearn.metrics import confusion_matrix\n",
    "confusion_matrix = confusion_matrix(y_test, y_pred)\n",
    "print(confusion_matrix)"
   ]
  },
  {
   "cell_type": "code",
   "execution_count": 438,
   "metadata": {},
   "outputs": [
    {
     "name": "stdout",
     "output_type": "stream",
     "text": [
      "              precision    recall  f1-score   support\n",
      "\n",
      "           0       0.79      0.72      0.75      4755\n",
      "           1       0.75      0.81      0.78      4856\n",
      "\n",
      "   micro avg       0.77      0.77      0.77      9611\n",
      "   macro avg       0.77      0.77      0.77      9611\n",
      "weighted avg       0.77      0.77      0.77      9611\n",
      "\n"
     ]
    },
    {
     "data": {
      "image/png": "[encoded data removed]",
      "text/plain": [
       "<Figure size 432x288 with 1 Axes>"
      ]
     },
     "metadata": {},
     "output_type": "display_data"
    }
   ],
   "source": [
    "from sklearn.metrics import classification_report\n",
    "print(classification_report(y_test, y_pred))\n",
    "from sklearn.metrics import roc_auc_score\n",
    "from sklearn.metrics import roc_curve\n",
    "logit_roc_auc = roc_auc_score(y_test, logreg.predict(X_test))\n",
    "fpr, tpr, thresholds = roc_curve(y_test, logreg.predict_proba(X_test)[:,1])\n",
    "plt.figure()\n",
    "plt.plot(fpr, tpr, label='Logistic Regression (area = %0.2f)' % logit_roc_auc)\n",
    "plt.plot([0, 1], [0, 1],'r--')\n",
    "plt.xlim([0.0, 1.0])\n",
    "plt.ylim([0.0, 1.05])\n",
    "plt.xlabel('False Positive Rate')\n",
    "plt.ylabel('True Positive Rate')\n",
    "plt.title('Receiver operating characteristic')\n",
    "plt.legend(loc=\"lower right\")\n",
    "plt.savefig('Log_ROC')\n",
    "plt.show()  "
   ]
  },
  {
   "cell_type": "code",
   "execution_count": 439,
   "metadata": {},
   "outputs": [
    {
     "data": {
      "text/html": [
       "\n",
       "    <style>\n",
       "    table.eli5-weights tr:hover {\n",
       "        filter: brightness(85%);\n",
       "    }\n",
       "</style>\n",
       "\n",
       "\n",
       "\n",
       "    \n",
       "\n",
       "    \n",
       "\n",
       "    \n",
       "\n",
       "    \n",
       "\n",
       "    \n",
       "\n",
       "    \n",
       "\n",
       "\n",
       "    \n",
       "\n",
       "    \n",
       "\n",
       "    \n",
       "\n",
       "    \n",
       "\n",
       "    \n",
       "\n",
       "    \n",
       "\n",
       "\n",
       "    \n",
       "\n",
       "    \n",
       "\n",
       "    \n",
       "\n",
       "    \n",
       "\n",
       "    \n",
       "        <table class=\"eli5-weights eli5-feature-importances\" style=\"border-collapse: collapse; border: none; margin-top: 0em; table-layout: auto;\">\n",
       "    <thead>\n",
       "    <tr style=\"border: none;\">\n",
       "        <th style=\"padding: 0 1em 0 0.5em; text-align: right; border: none;\">Weight</th>\n",
       "        <th style=\"padding: 0 0.5em 0 0.5em; text-align: left; border: none;\">Feature</th>\n",
       "    </tr>\n",
       "    </thead>\n",
       "    <tbody>\n",
       "    \n",
       "        <tr style=\"background-color: hsl(120, 100.00%, 80.00%); border: none;\">\n",
       "            <td style=\"padding: 0 1em 0 0.5em; text-align: right; border: none;\">\n",
       "                0.1335\n",
       "                \n",
       "                    &plusmn; 0.0115\n",
       "                \n",
       "            </td>\n",
       "            <td style=\"padding: 0 0.5em 0 0.5em; text-align: left; border: none;\">\n",
       "                v190_poor\n",
       "            </td>\n",
       "        </tr>\n",
       "    \n",
       "        <tr style=\"background-color: hsl(120, 100.00%, 83.47%); border: none;\">\n",
       "            <td style=\"padding: 0 1em 0 0.5em; text-align: right; border: none;\">\n",
       "                0.1017\n",
       "                \n",
       "                    &plusmn; 0.0050\n",
       "                \n",
       "            </td>\n",
       "            <td style=\"padding: 0 0.5em 0 0.5em; text-align: left; border: none;\">\n",
       "                v714_no\n",
       "            </td>\n",
       "        </tr>\n",
       "    \n",
       "        <tr style=\"background-color: hsl(120, 100.00%, 84.13%); border: none;\">\n",
       "            <td style=\"padding: 0 1em 0 0.5em; text-align: right; border: none;\">\n",
       "                0.0960\n",
       "                \n",
       "                    &plusmn; 0.0080\n",
       "                \n",
       "            </td>\n",
       "            <td style=\"padding: 0 0.5em 0 0.5em; text-align: left; border: none;\">\n",
       "                v106_no education\n",
       "            </td>\n",
       "        </tr>\n",
       "    \n",
       "        <tr style=\"background-color: hsl(120, 100.00%, 88.03%); border: none;\">\n",
       "            <td style=\"padding: 0 1em 0 0.5em; text-align: right; border: none;\">\n",
       "                0.0641\n",
       "                \n",
       "                    &plusmn; 0.0038\n",
       "                \n",
       "            </td>\n",
       "            <td style=\"padding: 0 0.5em 0 0.5em; text-align: left; border: none;\">\n",
       "                v013_15-19\n",
       "            </td>\n",
       "        </tr>\n",
       "    \n",
       "        <tr style=\"background-color: hsl(120, 100.00%, 88.68%); border: none;\">\n",
       "            <td style=\"padding: 0 1em 0 0.5em; text-align: right; border: none;\">\n",
       "                0.0592\n",
       "                \n",
       "                    &plusmn; 0.0067\n",
       "                \n",
       "            </td>\n",
       "            <td style=\"padding: 0 0.5em 0 0.5em; text-align: left; border: none;\">\n",
       "                v190_Average\n",
       "            </td>\n",
       "        </tr>\n",
       "    \n",
       "        <tr style=\"background-color: hsl(120, 100.00%, 89.93%); border: none;\">\n",
       "            <td style=\"padding: 0 1em 0 0.5em; text-align: right; border: none;\">\n",
       "                0.0501\n",
       "                \n",
       "                    &plusmn; 0.0034\n",
       "                \n",
       "            </td>\n",
       "            <td style=\"padding: 0 0.5em 0 0.5em; text-align: left; border: none;\">\n",
       "                v013_20-24\n",
       "            </td>\n",
       "        </tr>\n",
       "    \n",
       "        <tr style=\"background-color: hsl(120, 100.00%, 90.34%); border: none;\">\n",
       "            <td style=\"padding: 0 1em 0 0.5em; text-align: right; border: none;\">\n",
       "                0.0472\n",
       "                \n",
       "                    &plusmn; 0.0049\n",
       "                \n",
       "            </td>\n",
       "            <td style=\"padding: 0 0.5em 0 0.5em; text-align: left; border: none;\">\n",
       "                v013_25-29\n",
       "            </td>\n",
       "        </tr>\n",
       "    \n",
       "        <tr style=\"background-color: hsl(120, 100.00%, 90.86%); border: none;\">\n",
       "            <td style=\"padding: 0 1em 0 0.5em; text-align: right; border: none;\">\n",
       "                0.0436\n",
       "                \n",
       "                    &plusmn; 0.0031\n",
       "                \n",
       "            </td>\n",
       "            <td style=\"padding: 0 0.5em 0 0.5em; text-align: left; border: none;\">\n",
       "                v714_yes\n",
       "            </td>\n",
       "        </tr>\n",
       "    \n",
       "        <tr style=\"background-color: hsl(120, 100.00%, 91.07%); border: none;\">\n",
       "            <td style=\"padding: 0 1em 0 0.5em; text-align: right; border: none;\">\n",
       "                0.0422\n",
       "                \n",
       "                    &plusmn; 0.0055\n",
       "                \n",
       "            </td>\n",
       "            <td style=\"padding: 0 0.5em 0 0.5em; text-align: left; border: none;\">\n",
       "                v013_30-34\n",
       "            </td>\n",
       "        </tr>\n",
       "    \n",
       "        <tr style=\"background-color: hsl(120, 100.00%, 91.61%); border: none;\">\n",
       "            <td style=\"padding: 0 1em 0 0.5em; text-align: right; border: none;\">\n",
       "                0.0386\n",
       "                \n",
       "                    &plusmn; 0.0022\n",
       "                \n",
       "            </td>\n",
       "            <td style=\"padding: 0 0.5em 0 0.5em; text-align: left; border: none;\">\n",
       "                v013_45-49\n",
       "            </td>\n",
       "        </tr>\n",
       "    \n",
       "        <tr style=\"background-color: hsl(120, 100.00%, 92.56%); border: none;\">\n",
       "            <td style=\"padding: 0 1em 0 0.5em; text-align: right; border: none;\">\n",
       "                0.0325\n",
       "                \n",
       "                    &plusmn; 0.0045\n",
       "                \n",
       "            </td>\n",
       "            <td style=\"padding: 0 0.5em 0 0.5em; text-align: left; border: none;\">\n",
       "                v190_rich\n",
       "            </td>\n",
       "        </tr>\n",
       "    \n",
       "        <tr style=\"background-color: hsl(120, 100.00%, 92.61%); border: none;\">\n",
       "            <td style=\"padding: 0 1em 0 0.5em; text-align: right; border: none;\">\n",
       "                0.0322\n",
       "                \n",
       "                    &plusmn; 0.0027\n",
       "                \n",
       "            </td>\n",
       "            <td style=\"padding: 0 0.5em 0 0.5em; text-align: left; border: none;\">\n",
       "                v013_35-39\n",
       "            </td>\n",
       "        </tr>\n",
       "    \n",
       "        <tr style=\"background-color: hsl(120, 100.00%, 93.21%); border: none;\">\n",
       "            <td style=\"padding: 0 1em 0 0.5em; text-align: right; border: none;\">\n",
       "                0.0285\n",
       "                \n",
       "                    &plusmn; 0.0032\n",
       "                \n",
       "            </td>\n",
       "            <td style=\"padding: 0 0.5em 0 0.5em; text-align: left; border: none;\">\n",
       "                v013_40-44\n",
       "            </td>\n",
       "        </tr>\n",
       "    \n",
       "        <tr style=\"background-color: hsl(120, 100.00%, 93.74%); border: none;\">\n",
       "            <td style=\"padding: 0 1em 0 0.5em; text-align: right; border: none;\">\n",
       "                0.0254\n",
       "                \n",
       "                    &plusmn; 0.0025\n",
       "                \n",
       "            </td>\n",
       "            <td style=\"padding: 0 0.5em 0 0.5em; text-align: left; border: none;\">\n",
       "                v536_never had sex\n",
       "            </td>\n",
       "        </tr>\n",
       "    \n",
       "        <tr style=\"background-color: hsl(120, 100.00%, 98.28%); border: none;\">\n",
       "            <td style=\"padding: 0 1em 0 0.5em; text-align: right; border: none;\">\n",
       "                0.0040\n",
       "                \n",
       "                    &plusmn; 0.0019\n",
       "                \n",
       "            </td>\n",
       "            <td style=\"padding: 0 0.5em 0 0.5em; text-align: left; border: none;\">\n",
       "                v201_1-5\n",
       "            </td>\n",
       "        </tr>\n",
       "    \n",
       "        <tr style=\"background-color: hsl(120, 100.00%, 99.70%); border: none;\">\n",
       "            <td style=\"padding: 0 1em 0 0.5em; text-align: right; border: none;\">\n",
       "                0.0003\n",
       "                \n",
       "                    &plusmn; 0.0007\n",
       "                \n",
       "            </td>\n",
       "            <td style=\"padding: 0 0.5em 0 0.5em; text-align: left; border: none;\">\n",
       "                v106_secondary/higher\n",
       "            </td>\n",
       "        </tr>\n",
       "    \n",
       "        <tr style=\"background-color: hsl(120, 100.00%, 99.74%); border: none;\">\n",
       "            <td style=\"padding: 0 1em 0 0.5em; text-align: right; border: none;\">\n",
       "                0.0003\n",
       "                \n",
       "                    &plusmn; 0.0008\n",
       "                \n",
       "            </td>\n",
       "            <td style=\"padding: 0 0.5em 0 0.5em; text-align: left; border: none;\">\n",
       "                v201_7+\n",
       "            </td>\n",
       "        </tr>\n",
       "    \n",
       "    \n",
       "    </tbody>\n",
       "</table>\n",
       "    \n",
       "\n",
       "    \n",
       "\n",
       "\n",
       "    \n",
       "\n",
       "    \n",
       "\n",
       "    \n",
       "\n",
       "    \n",
       "\n",
       "    \n",
       "\n",
       "    \n",
       "\n",
       "\n",
       "\n"
      ],
      "text/plain": [
       "<IPython.core.display.HTML object>"
      ]
     },
     "execution_count": 439,
     "metadata": {},
     "output_type": "execute_result"
    }
   ],
   "source": [
    "perm = PermutationImportance(logreg, random_state=0).fit(X_test, y_test)\n",
    "eli5.show_weights(perm, feature_names = X_test.columns.tolist())"
   ]
  },
  {
   "cell_type": "code",
   "execution_count": 440,
   "metadata": {},
   "outputs": [
    {
     "name": "stdout",
     "output_type": "stream",
     "text": [
      "Model accuracy  mean= 0.7686002539800667 stddev= 0.008732264443002478\n",
      "Model roc_auc  mean= 0.8503179455602738 stddev= 0.010716391905924582\n"
     ]
    }
   ],
   "source": [
    "from sklearn import model_selection\n",
    "from sklearn.linear_model import LogisticRegression\n",
    "\n",
    "for scoring in[\"accuracy\", \"roc_auc\"]:\n",
    "    seed = 0\n",
    "    kfold = model_selection.KFold(n_splits=10, random_state=0)\n",
    "    logreg = LogisticRegression(solver='lbfgs', max_iter=1000, class_weight='balanced')\n",
    "    results = model_selection.cross_val_score(logreg, X_test, y_test, cv=kfold, scoring=scoring)\n",
    "    print(\"Model\", scoring, \" mean=\", results.mean() , \"stddev=\", results.std())"
   ]
  },
  {
   "cell_type": "code",
   "execution_count": 441,
   "metadata": {},
   "outputs": [
    {
     "data": {
      "text/plain": [
       "['ModernContraceptiveUsePredictorModel.pkl']"
      ]
     },
     "execution_count": 441,
     "metadata": {},
     "output_type": "execute_result"
    }
   ],
   "source": [
    "from sklearn.externals import joblib \n",
    "  \n",
    "# Save the model as a pickle file \n",
    "joblib.dump(logreg, 'ModernContraceptiveUsePredictorModel.pkl')  "
   ]
  }
 ],
 "metadata": {
  "kernelspec": {
   "display_name": "Python 3",
   "language": "python",
   "name": "python3"
  },
  "language_info": {
   "codemirror_mode": {
    "name": "ipython",
    "version": 3
   },
   "file_extension": ".py",
   "mimetype": "text/x-python",
   "name": "python",
   "nbconvert_exporter": "python",
   "pygments_lexer": "ipython3",
   "version": "3.7.3"
  }
 },
 "nbformat": 4,
 "nbformat_minor": 2
}
