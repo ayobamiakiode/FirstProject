{
 "cells": [
  {
   "cell_type": "code",
   "execution_count": 10,
   "metadata": {},
   "outputs": [],
   "source": [
    "# decision tree evaluated on imbalanced dataset\n",
    "import pandas as pd\n",
    "from numpy import mean\n",
    "from sklearn.datasets import make_classification\n",
    "from sklearn.model_selection import cross_val_score\n",
    "from sklearn.model_selection import RepeatedStratifiedKFold\n",
    "from sklearn.linear_model import LogisticRegression\n",
    "from sklearn.model_selection import train_test_split\n",
    "from sklearn.pipeline import Pipeline\n",
    "from imblearn.pipeline import Pipeline\n",
    "from imblearn.over_sampling import SMOTE"
   ]
  },
  {
   "cell_type": "code",
   "execution_count": 11,
   "metadata": {},
   "outputs": [],
   "source": [
    "# Specify the path directory to the csv dataset on your computer so as to import it into pandas\n",
    "path=r'B:\\Rural_Nig_data_only.csv'\n",
    "\n",
    "# Read the data into pandas (as its dataframe) \n",
    "Rural_data_only=pd.read_csv(path)"
   ]
  },
  {
   "cell_type": "code",
   "execution_count": 5,
   "metadata": {},
   "outputs": [
    {
     "data": {
      "text/html": [
       "<div>\n",
       "<style scoped>\n",
       "    .dataframe tbody tr th:only-of-type {\n",
       "        vertical-align: middle;\n",
       "    }\n",
       "\n",
       "    .dataframe tbody tr th {\n",
       "        vertical-align: top;\n",
       "    }\n",
       "\n",
       "    .dataframe thead th {\n",
       "        text-align: right;\n",
       "    }\n",
       "</style>\n",
       "<table border=\"1\" class=\"dataframe\">\n",
       "  <thead>\n",
       "    <tr style=\"text-align: right;\">\n",
       "      <th></th>\n",
       "      <th>v024_north central</th>\n",
       "      <th>v024_north east</th>\n",
       "      <th>v024_north west</th>\n",
       "      <th>v024_south east</th>\n",
       "      <th>v024_south south</th>\n",
       "      <th>v024_south west</th>\n",
       "      <th>v130_christians</th>\n",
       "      <th>v130_muslim</th>\n",
       "      <th>v130_others</th>\n",
       "      <th>v502_never in union</th>\n",
       "      <th>...</th>\n",
       "      <th>v013_15-19</th>\n",
       "      <th>v013_20-24</th>\n",
       "      <th>v013_25-29</th>\n",
       "      <th>v013_30-34</th>\n",
       "      <th>v013_35-39</th>\n",
       "      <th>v013_40-44</th>\n",
       "      <th>v013_45-49</th>\n",
       "      <th>v714_no</th>\n",
       "      <th>v714_yes</th>\n",
       "      <th>v313_Using modern method</th>\n",
       "    </tr>\n",
       "  </thead>\n",
       "  <tbody>\n",
       "    <tr>\n",
       "      <th>0</th>\n",
       "      <td>1</td>\n",
       "      <td>0</td>\n",
       "      <td>0</td>\n",
       "      <td>0</td>\n",
       "      <td>0</td>\n",
       "      <td>0</td>\n",
       "      <td>1</td>\n",
       "      <td>0</td>\n",
       "      <td>0</td>\n",
       "      <td>0</td>\n",
       "      <td>...</td>\n",
       "      <td>0</td>\n",
       "      <td>0</td>\n",
       "      <td>0</td>\n",
       "      <td>0</td>\n",
       "      <td>1</td>\n",
       "      <td>0</td>\n",
       "      <td>0</td>\n",
       "      <td>0</td>\n",
       "      <td>1</td>\n",
       "      <td>0</td>\n",
       "    </tr>\n",
       "    <tr>\n",
       "      <th>1</th>\n",
       "      <td>1</td>\n",
       "      <td>0</td>\n",
       "      <td>0</td>\n",
       "      <td>0</td>\n",
       "      <td>0</td>\n",
       "      <td>0</td>\n",
       "      <td>1</td>\n",
       "      <td>0</td>\n",
       "      <td>0</td>\n",
       "      <td>1</td>\n",
       "      <td>...</td>\n",
       "      <td>1</td>\n",
       "      <td>0</td>\n",
       "      <td>0</td>\n",
       "      <td>0</td>\n",
       "      <td>0</td>\n",
       "      <td>0</td>\n",
       "      <td>0</td>\n",
       "      <td>0</td>\n",
       "      <td>1</td>\n",
       "      <td>0</td>\n",
       "    </tr>\n",
       "    <tr>\n",
       "      <th>2</th>\n",
       "      <td>1</td>\n",
       "      <td>0</td>\n",
       "      <td>0</td>\n",
       "      <td>0</td>\n",
       "      <td>0</td>\n",
       "      <td>0</td>\n",
       "      <td>1</td>\n",
       "      <td>0</td>\n",
       "      <td>0</td>\n",
       "      <td>0</td>\n",
       "      <td>...</td>\n",
       "      <td>0</td>\n",
       "      <td>0</td>\n",
       "      <td>0</td>\n",
       "      <td>0</td>\n",
       "      <td>0</td>\n",
       "      <td>0</td>\n",
       "      <td>1</td>\n",
       "      <td>0</td>\n",
       "      <td>1</td>\n",
       "      <td>0</td>\n",
       "    </tr>\n",
       "    <tr>\n",
       "      <th>3</th>\n",
       "      <td>1</td>\n",
       "      <td>0</td>\n",
       "      <td>0</td>\n",
       "      <td>0</td>\n",
       "      <td>0</td>\n",
       "      <td>0</td>\n",
       "      <td>1</td>\n",
       "      <td>0</td>\n",
       "      <td>0</td>\n",
       "      <td>1</td>\n",
       "      <td>...</td>\n",
       "      <td>1</td>\n",
       "      <td>0</td>\n",
       "      <td>0</td>\n",
       "      <td>0</td>\n",
       "      <td>0</td>\n",
       "      <td>0</td>\n",
       "      <td>0</td>\n",
       "      <td>1</td>\n",
       "      <td>0</td>\n",
       "      <td>0</td>\n",
       "    </tr>\n",
       "    <tr>\n",
       "      <th>4</th>\n",
       "      <td>1</td>\n",
       "      <td>0</td>\n",
       "      <td>0</td>\n",
       "      <td>0</td>\n",
       "      <td>0</td>\n",
       "      <td>0</td>\n",
       "      <td>1</td>\n",
       "      <td>0</td>\n",
       "      <td>0</td>\n",
       "      <td>0</td>\n",
       "      <td>...</td>\n",
       "      <td>0</td>\n",
       "      <td>0</td>\n",
       "      <td>0</td>\n",
       "      <td>0</td>\n",
       "      <td>0</td>\n",
       "      <td>0</td>\n",
       "      <td>1</td>\n",
       "      <td>0</td>\n",
       "      <td>1</td>\n",
       "      <td>0</td>\n",
       "    </tr>\n",
       "  </tbody>\n",
       "</table>\n",
       "<p>5 rows × 35 columns</p>\n",
       "</div>"
      ],
      "text/plain": [
       "   v024_north central  v024_north east  v024_north west  v024_south east  \\\n",
       "0                   1                0                0                0   \n",
       "1                   1                0                0                0   \n",
       "2                   1                0                0                0   \n",
       "3                   1                0                0                0   \n",
       "4                   1                0                0                0   \n",
       "\n",
       "   v024_south south  v024_south west  v130_christians  v130_muslim  \\\n",
       "0                 0                0                1            0   \n",
       "1                 0                0                1            0   \n",
       "2                 0                0                1            0   \n",
       "3                 0                0                1            0   \n",
       "4                 0                0                1            0   \n",
       "\n",
       "   v130_others  v502_never in union  ...  v013_15-19  v013_20-24  v013_25-29  \\\n",
       "0            0                    0  ...           0           0           0   \n",
       "1            0                    1  ...           1           0           0   \n",
       "2            0                    0  ...           0           0           0   \n",
       "3            0                    1  ...           1           0           0   \n",
       "4            0                    0  ...           0           0           0   \n",
       "\n",
       "   v013_30-34  v013_35-39  v013_40-44  v013_45-49  v714_no  v714_yes  \\\n",
       "0           0           1           0           0        0         1   \n",
       "1           0           0           0           0        0         1   \n",
       "2           0           0           0           1        0         1   \n",
       "3           0           0           0           0        1         0   \n",
       "4           0           0           0           1        0         1   \n",
       "\n",
       "   v313_Using modern method  \n",
       "0                         0  \n",
       "1                         0  \n",
       "2                         0  \n",
       "3                         0  \n",
       "4                         0  \n",
       "\n",
       "[5 rows x 35 columns]"
      ]
     },
     "execution_count": 5,
     "metadata": {},
     "output_type": "execute_result"
    }
   ],
   "source": [
    "Rural_data_only.head()"
   ]
  },
  {
   "cell_type": "code",
   "execution_count": 6,
   "metadata": {},
   "outputs": [
    {
     "data": {
      "text/plain": [
       "(24837, 35)"
      ]
     },
     "execution_count": 6,
     "metadata": {},
     "output_type": "execute_result"
    }
   ],
   "source": [
    "Rural_data_only.shape"
   ]
  },
  {
   "cell_type": "code",
   "execution_count": 7,
   "metadata": {},
   "outputs": [
    {
     "name": "stdout",
     "output_type": "stream",
     "text": [
      "<class 'pandas.core.frame.DataFrame'>\n",
      "RangeIndex: 24837 entries, 0 to 24836\n",
      "Data columns (total 35 columns):\n",
      " #   Column                                     Non-Null Count  Dtype\n",
      "---  ------                                     --------------  -----\n",
      " 0   v024_north central                         24837 non-null  int64\n",
      " 1   v024_north east                            24837 non-null  int64\n",
      " 2   v024_north west                            24837 non-null  int64\n",
      " 3   v024_south east                            24837 non-null  int64\n",
      " 4   v024_south south                           24837 non-null  int64\n",
      " 5   v024_south west                            24837 non-null  int64\n",
      " 6   v130_christians                            24837 non-null  int64\n",
      " 7   v130_muslim                                24837 non-null  int64\n",
      " 8   v130_others                                24837 non-null  int64\n",
      " 9   v502_never in union                        24837 non-null  int64\n",
      " 10  v502_currently in union/living with a man  24837 non-null  int64\n",
      " 11  v502_formerly in union/living with a man   24837 non-null  int64\n",
      " 12  v106_no education                          24837 non-null  int64\n",
      " 13  v106_primary                               24837 non-null  int64\n",
      " 14  v106_secondary/higher                      24837 non-null  int64\n",
      " 15  v190_Average                               24837 non-null  int64\n",
      " 16  v190_poor                                  24837 non-null  int64\n",
      " 17  v190_rich                                  24837 non-null  int64\n",
      " 18  v201_0                                     24837 non-null  int64\n",
      " 19  v201_1-5                                   24837 non-null  int64\n",
      " 20  v201_6                                     24837 non-null  int64\n",
      " 21  v201_7+                                    24837 non-null  int64\n",
      " 22  v536_active in last 4 weeks                24837 non-null  int64\n",
      " 23  v536_never had sex                         24837 non-null  int64\n",
      " 24  v536_not active in last 4 weeks            24837 non-null  int64\n",
      " 25  v013_15-19                                 24837 non-null  int64\n",
      " 26  v013_20-24                                 24837 non-null  int64\n",
      " 27  v013_25-29                                 24837 non-null  int64\n",
      " 28  v013_30-34                                 24837 non-null  int64\n",
      " 29  v013_35-39                                 24837 non-null  int64\n",
      " 30  v013_40-44                                 24837 non-null  int64\n",
      " 31  v013_45-49                                 24837 non-null  int64\n",
      " 32  v714_no                                    24837 non-null  int64\n",
      " 33  v714_yes                                   24837 non-null  int64\n",
      " 34  v313_Using modern method                   24837 non-null  int64\n",
      "dtypes: int64(35)\n",
      "memory usage: 6.6 MB\n"
     ]
    }
   ],
   "source": [
    "Rural_data_only.info()"
   ]
  },
  {
   "cell_type": "code",
   "execution_count": 8,
   "metadata": {},
   "outputs": [
    {
     "data": {
      "text/plain": [
       "0    22839\n",
       "1     1998\n",
       "Name: v313_Using modern method, dtype: int64"
      ]
     },
     "execution_count": 8,
     "metadata": {},
     "output_type": "execute_result"
    }
   ],
   "source": [
    "Rural_data_only['v313_Using modern method'].value_counts()"
   ]
  },
  {
   "cell_type": "code",
   "execution_count": 12,
   "metadata": {},
   "outputs": [
    {
     "data": {
      "text/plain": [
       "0    91.95555\n",
       "1     8.04445\n",
       "Name: v313_Using modern method, dtype: float64"
      ]
     },
     "execution_count": 12,
     "metadata": {},
     "output_type": "execute_result"
    }
   ],
   "source": [
    "Rural_data_only['v313_Using modern method'].value_counts(normalize=True) * 100"
   ]
  },
  {
   "cell_type": "code",
   "execution_count": 9,
   "metadata": {},
   "outputs": [],
   "source": [
    "# define dataset\n",
    "array=Rural_data_only.values"
   ]
  },
  {
   "cell_type": "code",
   "execution_count": 10,
   "metadata": {},
   "outputs": [],
   "source": [
    "X=array[:,0:34]\n",
    "y=array[:,34]"
   ]
  },
  {
   "cell_type": "code",
   "execution_count": 24,
   "metadata": {},
   "outputs": [
    {
     "name": "stdout",
     "output_type": "stream",
     "text": [
      "Model accuracy  mean= 0.9195957902896973 stddev= 0.00028928808175981405\n",
      "Model roc_auc  mean= 0.7923240710693702 stddev= 0.009499451153348007\n"
     ]
    }
   ],
   "source": [
    "# define model\n",
    "model = LogisticRegression()\n",
    "# evaluate pipeline\n",
    "for scoring in[\"accuracy\", \"roc_auc\"]:\n",
    "    cv = RepeatedStratifiedKFold(n_splits=10, n_repeats=3, random_state=0)\n",
    "    scores = cross_val_score(model, X, y, scoring=scoring, cv=cv, n_jobs=-1)\n",
    "    print(\"Model\", scoring, \" mean=\", scores.mean() , \"stddev=\", scores.std())"
   ]
  },
  {
   "cell_type": "code",
   "execution_count": 25,
   "metadata": {},
   "outputs": [
    {
     "name": "stdout",
     "output_type": "stream",
     "text": [
      "Model accuracy  mean= 0.6894152323832117 stddev= 0.011039145714165978\n",
      "Model roc_auc  mean= 0.7927715710397878 stddev= 0.009712455121436201\n"
     ]
    }
   ],
   "source": [
    "# define model\n",
    "model = LogisticRegression(solver='lbfgs', max_iter=1000, class_weight='balanced')\n",
    "# evaluate pipeline\n",
    "for scoring in[\"accuracy\", \"roc_auc\"]:\n",
    "    cv = RepeatedStratifiedKFold(n_splits=10, n_repeats=3, random_state=0)\n",
    "    scores = cross_val_score(model, X, y, scoring=scoring, cv=cv, n_jobs=-1)\n",
    "    print(\"Model\", scoring, \" mean=\", scores.mean() , \"stddev=\", scores.std())"
   ]
  },
  {
   "cell_type": "code",
   "execution_count": 26,
   "metadata": {
    "scrolled": true
   },
   "outputs": [
    {
     "name": "stdout",
     "output_type": "stream",
     "text": [
      "Model accuracy  mean= 0.8402788613673354 stddev= 0.007227576688532226\n",
      "Model roc_auc  mean= 0.771733245261183 stddev= 0.010454372165887175\n"
     ]
    }
   ],
   "source": [
    "# decision tree evaluated on imbalanced dataset with SMOTE oversampling\n",
    "from numpy import mean\n",
    "from sklearn.datasets import make_classification\n",
    "from sklearn.model_selection import cross_val_score\n",
    "from sklearn.model_selection import RepeatedStratifiedKFold\n",
    "from sklearn.tree import DecisionTreeClassifier\n",
    "from imblearn.pipeline import Pipeline\n",
    "from imblearn.over_sampling import SMOTE\n",
    "# define pipeline\n",
    "steps = [('over', SMOTE()), ('model', LogisticRegression())]\n",
    "pipeline = Pipeline(steps=steps)\n",
    "# evaluate pipeline\n",
    "for scoring in[\"accuracy\", \"roc_auc\"]:\n",
    "    cv = RepeatedStratifiedKFold(n_splits=10, n_repeats=3, random_state=0)\n",
    "    scores = cross_val_score(pipeline, X, y, scoring=scoring, cv=cv, n_jobs=-1)\n",
    "    print(\"Model\", scoring, \" mean=\", scores.mean() , \"stddev=\", scores.std())"
   ]
  },
  {
   "cell_type": "code",
   "execution_count": 29,
   "metadata": {},
   "outputs": [
    {
     "name": "stdout",
     "output_type": "stream",
     "text": [
      "Model accuracy  mean= 0.8399567245135953 stddev= 0.007159069961179584\n",
      "Model roc_auc  mean= 0.7716520284882906 stddev= 0.010238676067873828\n"
     ]
    }
   ],
   "source": [
    "# decision tree evaluated on imbalanced dataset with SMOTE oversampling\n",
    "# define pipeline\n",
    "steps = [('over', SMOTE()), ('model', LogisticRegression(solver='lbfgs', max_iter=1000, class_weight='balanced'))]\n",
    "pipeline = Pipeline(steps=steps)\n",
    "# evaluate pipeline\n",
    "for scoring in[\"accuracy\", \"roc_auc\"]:\n",
    "    cv = RepeatedStratifiedKFold(n_splits=10, n_repeats=3, random_state=0)\n",
    "    scores = cross_val_score(pipeline, X, y, scoring=scoring, cv=cv, n_jobs=-1)\n",
    "    print(\"Model\", scoring, \" mean=\", scores.mean() , \"stddev=\", scores.std())"
   ]
  }
 ],
 "metadata": {
  "kernelspec": {
   "display_name": "Python 3",
   "language": "python",
   "name": "python3"
  },
  "language_info": {
   "codemirror_mode": {
    "name": "ipython",
    "version": 3
   },
   "file_extension": ".py",
   "mimetype": "text/x-python",
   "name": "python",
   "nbconvert_exporter": "python",
   "pygments_lexer": "ipython3",
   "version": "3.7.3"
  }
 },
 "nbformat": 4,
 "nbformat_minor": 2
}
